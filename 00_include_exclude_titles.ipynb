{
 "cells": [
  {
   "cell_type": "code",
   "execution_count": 5,
   "metadata": {},
   "outputs": [],
   "source": [
    "import openai\n",
    "import pandas as pd"
   ]
  },
  {
   "cell_type": "markdown",
   "metadata": {},
   "source": [
    "Define Your OpenAI Key"
   ]
  },
  {
   "cell_type": "code",
   "execution_count": 6,
   "metadata": {},
   "outputs": [],
   "source": [
    "openai_key_path = '/Users/cu135/Library/CloudStorage/OneDrive-Personal/OneDrive_Documents/Work/Software/Research/nimlab/gpt_document_reader/openai_key.txt'"
   ]
  },
  {
   "cell_type": "markdown",
   "metadata": {},
   "source": [
    "01 - First Assess Titles"
   ]
  },
  {
   "cell_type": "markdown",
   "metadata": {},
   "source": [
    "Define Path to CSV and Question\n",
    "- csv_path = \"path/to/your/titles.csv\"\n",
    "- question = \"Is this title related to medical research?\"\n",
    "- keywords_list = [\"focal\", \"lesion\", \"brain\", \"death\", \"case\"]"
   ]
  },
  {
   "cell_type": "code",
   "execution_count": 7,
   "metadata": {},
   "outputs": [],
   "source": [
    "csv_path = \"/Users/cu135/Dropbox (Partners HealthCare)/studies/death_network_mapping/reviewpyper/search_results/csv-strokeAllF-set.csv\"\n",
    "question = \"Do you think this article may contain a case report or case series of neurological lesion causing death or an arrest?\""
   ]
  },
  {
   "cell_type": "markdown",
   "metadata": {},
   "source": [
    "If you also want to perform a keyword-based assessment (free), you can enter a list of strings here:\n",
    "- Just set to None if you don't want to use it. But it's a good baseline."
   ]
  },
  {
   "cell_type": "code",
   "execution_count": 8,
   "metadata": {},
   "outputs": [],
   "source": [
    "keywords_list = None #[\"Alice in Wonderland Syndrome\", \"macropsia\", \"micropsia\"]"
   ]
  },
  {
   "cell_type": "code",
   "execution_count": 9,
   "metadata": {},
   "outputs": [
    {
     "name": "stderr",
     "output_type": "stream",
     "text": [
      "OpenAI Screening:   0%|          | 0/8935 [00:00<?, ?it/s]"
     ]
    },
    {
     "name": "stderr",
     "output_type": "stream",
     "text": [
      "OpenAI Screening: 100%|██████████| 8935/8935 [1:36:33<00:00,  1.54it/s]   "
     ]
    },
    {
     "name": "stdout",
     "output_type": "stream",
     "text": [
      "Saved finalized CSV to /Users/cu135/Dropbox (Partners HealthCare)/studies/death_network_mapping/reviewpyper/search_results/csv-strokeAllF-set_cleaned.csv\n"
     ]
    },
    {
     "name": "stderr",
     "output_type": "stream",
     "text": [
      "\n"
     ]
    }
   ],
   "source": [
    "from calvin_utils.gpt_sys_review.gpt_utils import TitleScreener\n",
    "title_screening = TitleScreener(api_key_path=openai_key_path,\n",
    "                                csv_path=csv_path, \n",
    "                                question=question, \n",
    "                                keywords=keywords_list, \n",
    "                                model_choice='gpt4')\n",
    "title_screening.run()"
   ]
  },
  {
   "cell_type": "markdown",
   "metadata": {},
   "source": [
    "Your titles have now been screened. \n",
    "- If you are curious about screening titles then abstracts versus titles and abstracts, please see this study: \n",
    "    - doi: 10.2147/CLEP.S43118\n",
    "- Enjoy. If this has been helpful, please consider adding Calvin Howard as a collaborator. \n",
    "- e: choward12@bwh.harvard.edu"
   ]
  }
 ],
 "metadata": {
  "kernelspec": {
   "display_name": "Python3.10 (nimlab)",
   "language": "python",
   "name": "nimlab_py310"
  },
  "language_info": {
   "codemirror_mode": {
    "name": "ipython",
    "version": 3
   },
   "file_extension": ".py",
   "mimetype": "text/x-python",
   "name": "python",
   "nbconvert_exporter": "python",
   "pygments_lexer": "ipython3",
   "version": "3.10.8"
  },
  "orig_nbformat": 4
 },
 "nbformat": 4,
 "nbformat_minor": 2
}
