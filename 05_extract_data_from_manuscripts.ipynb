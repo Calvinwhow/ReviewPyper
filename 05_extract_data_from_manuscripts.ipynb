{
 "cells": [
  {
   "cell_type": "markdown",
   "metadata": {},
   "source": [
    "Enter OpenAI API Key Path"
   ]
  },
  {
   "cell_type": "code",
   "execution_count": null,
   "metadata": {},
   "outputs": [],
   "source": [
    "api_key_path = \"/Users/cu135/Library/CloudStorage/OneDrive-Personal/OneDrive_Documents/Work/Software/Research/nimlab/gpt_document_reader/openai_key.txt\""
   ]
  },
  {
   "cell_type": "markdown",
   "metadata": {},
   "source": [
    "01 - Generate JSON from Post-Inclusion/Exclusion CSV\n",
    "- Enter path to CSV generated from Notebook 04 (inclusion/exclusion CSV)\n",
    "- Enter path to JSON which has the articles with labeled sections"
   ]
  },
  {
   "cell_type": "code",
   "execution_count": null,
   "metadata": {},
   "outputs": [],
   "source": [
    "csv_path = \"/Users/cu135/Dropbox (Partners HealthCare)/studies/review_pyper/raws/case_extractions/inclusion_exclusion_results/automated_filtered_results.csv\"\n",
    "json_file_path = \"/Users/cu135/Dropbox (Partners HealthCare)/studies/review_pyper/raws/labeled_text/case_labeled_sections.json\""
   ]
  },
  {
   "cell_type": "code",
   "execution_count": null,
   "metadata": {},
   "outputs": [],
   "source": [
    "from calvin_utils.gpt_sys_review.json_utils import FilterPapers\n",
    "\n",
    "# Initialize and run the FilterPapers class\n",
    "filter_papers = FilterPapers(csv_path=csv_path, json_path=json_file_path)\n",
    "filtered_json_path = filter_papers.run()"
   ]
  },
  {
   "cell_type": "markdown",
   "metadata": {},
   "source": [
    "02 - Prepare Data Extraction Questions\n",
    "- Dev Note: This is a repeat class and should be inherited from a .py"
   ]
  },
  {
   "cell_type": "code",
   "execution_count": null,
   "metadata": {},
   "outputs": [],
   "source": [
    "from calvin_utils.gpt_sys_review.gpt_utils import QuestionTemplate\n",
    "\n",
    "question_template = QuestionTemplate()\n",
    "question_template.data_extraction_questions()"
   ]
  },
  {
   "cell_type": "markdown",
   "metadata": {},
   "source": [
    "Copy the Template Dict from Above and Fill it Out As per the Example"
   ]
  },
  {
   "cell_type": "code",
   "execution_count": null,
   "metadata": {},
   "outputs": [],
   "source": [
    "question = {\n",
    "    \"Do you think this is reasonably free of selection bias? For example, a case series is free of bias. (Y/N).\": \"selection_bias\",\n",
    "    \"Do you think the history of presenting illness was reasonably described? For example, describing a patient's symptoms and circumstances of presentation are acceptable. (Y/N)\": \"hpi_history\",\n",
    "    \"Prioritizing implicit information, do you think diagnostic diagnostic tests relevant to the diagnosis had been completed to consolidate the diagnosis? Specific details are not necessary. For example, vascular imaging in a stroke is a reasonable workup. (Y/N).\": \"diagnostic_workup\",\n",
    "    \"Do you think the symptom is reasonably attributable to the lesion? For example, a stroke and subsequent amnesia is highly attributable. If the word acute is used, this is a yes. (Y/N)\": \"diagnostic_accuracy\",\n",
    "    \"Do you think the extended patient history was well described? For example, diabetes in pas medical history, family history of strokes, or note of medications. (Y/N)\": \"associated_history\",\n",
    "    \"Considering both explicit mentions and contextual clues like ordered presnetaiton of history to symptoms to workup, can you infer whether the history was presented as a timeline? For example, a description of acute neurological deficit to imaging findings to symptoms is acceptable. (Y/N)\": \"temporality_of_history\",\n",
    "    \"Prioritizing implicit contextual cues, can you infer if the neuroimaging may have been taken around the time of symptom or lesion onset? If neuroimaging is mentioned in close proximity to the description of symptoms, assume they are temporally related. (Y/N)\": \"lesion_related-images\",\n",
    "    \"Do you think the case has sufficient details to allow another doctor to make their own inferences? Specifics are not necessary so long as the critical information is present. For example, if the history and pertinent diagnostic information provided, this is acceptable. (Y/N)\": \"replicability\",\n",
    "    \"Is the case report suitable for lesion network mapping? For example, a case describing symptoms and related neuroimaging related to symptoms is sufficient. (Y/N)\": \"overall_appraisal\"\n",
    "    }"
   ]
  },
  {
   "cell_type": "markdown",
   "metadata": {},
   "source": [
    "03 - Extract Data with GPT\n",
    "\n",
    "Define the segmented labels you want to consider. \n",
    "\n",
    "- Article type 'case' will has sections 'case_report' and 'other'\n",
    "- Article type 'research' has sections \"Abstract\", \"Introduction\", \"Methods\", \"Results\", \"Discussion\", \"Conclusion\", \"References\"\n"
   ]
  },
  {
   "cell_type": "code",
   "execution_count": null,
   "metadata": {},
   "outputs": [],
   "source": [
    "# Define the keys you want to consider (exclude 'References')\n",
    "keys_to_consider = [\"case_report\"]  # Add or remove keys as per your requirement\n",
    "\n",
    "# Define the type of article and questions\n",
    "article_type = \"case\""
   ]
  },
  {
   "cell_type": "code",
   "execution_count": null,
   "metadata": {},
   "outputs": [],
   "source": [
    "test_mode=False"
   ]
  },
  {
   "cell_type": "code",
   "execution_count": null,
   "metadata": {},
   "outputs": [],
   "source": [
    "filtered_json_path='/Users/cu135/Library/CloudStorage/OneDrive-Personal/OneDrive_Documents/Work/Software/Research/nimlab/gpt_document_reader/amnesia_cases/ocr/keyword_matching_labeled_text/filtered_articles/filtered_labeled_sections.json'"
   ]
  },
  {
   "cell_type": "code",
   "execution_count": null,
   "metadata": {},
   "outputs": [],
   "source": [
    "from calvin_utils.gpt_sys_review.gpt_utils import OpenAIChatEvaluator\n",
    "evaluator = OpenAIChatEvaluator(api_key_path=api_key_path,\n",
    "                                json_file_path=filtered_json_path, \n",
    "                                keys_to_consider=keys_to_consider,\n",
    "                                question_type=article_type,\n",
    "                                question=question,\n",
    "                                test_mode=test_mode,\n",
    "                                model_choice=\"gpt3_large\")\n",
    "answers = evaluator.evaluate_all_files()\n",
    "evaluated_json_path = evaluator.save_to_json(answers)"
   ]
  },
  {
   "cell_type": "markdown",
   "metadata": {},
   "source": [
    "04 - Convert results to a CSV\n",
    "- Set answers_binary to False if the questions you asked do not have binary answers. \n",
    "   - We will extract the raw data, like specific result values, for you to review.\n",
    "- Set asnwers_binary to True if the questions you asked do have binary answers. \n",
    "   - By default, we will set positive answers to 1, and negative answers to 0."
   ]
  },
  {
   "cell_type": "code",
   "execution_count": null,
   "metadata": {},
   "outputs": [],
   "source": [
    "answers_binary=True"
   ]
  },
  {
   "cell_type": "code",
   "execution_count": null,
   "metadata": {},
   "outputs": [],
   "source": [
    "from calvin_utils.gpt_sys_review.json_utils import CustomSummarizer\n",
    "custom_summarizer = CustomSummarizer(json_path=evaluated_json_path, answers_binary=answers_binary)\n",
    "df, raw_path, automated_path = custom_summarizer.run_custom()"
   ]
  },
  {
   "cell_type": "markdown",
   "metadata": {},
   "source": [
    "Your articles have been completely evaluated. \n",
    "\n",
    "Please check the CSVs in the directory noted above and use the path to the one you would like to use for your further analysis.\n",
    "- Enjoy. If this has been helpful, please consider adding Calvin Howard as a collaborator. \n",
    "- e: choward12@bwh.harvard.edu"
   ]
  }
 ],
 "metadata": {
  "kernelspec": {
   "display_name": "Python3.10 (nimlab)",
   "language": "python",
   "name": "nimlab_py310"
  },
  "language_info": {
   "codemirror_mode": {
    "name": "ipython",
    "version": 3
   },
   "file_extension": ".py",
   "mimetype": "text/x-python",
   "name": "python",
   "nbconvert_exporter": "python",
   "pygments_lexer": "ipython3",
   "version": "3.10.8"
  },
  "orig_nbformat": 4
 },
 "nbformat": 4,
 "nbformat_minor": 2
}
