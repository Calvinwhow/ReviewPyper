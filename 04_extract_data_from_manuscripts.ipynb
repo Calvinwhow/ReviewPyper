{
 "cells": [
  {
   "cell_type": "markdown",
   "metadata": {},
   "source": [
    "01 - Generate JSON from Post-Inclusion/Exclusion CSV\n",
    "- Enter path to CSV which has successful articles in the index column\n",
    "- Enter path to JSON which has the articles with labeled sections"
   ]
  },
  {
   "cell_type": "code",
   "execution_count": null,
   "metadata": {},
   "outputs": [],
   "source": []
  },
  {
   "cell_type": "code",
   "execution_count": null,
   "metadata": {},
   "outputs": [],
   "source": [
    "csv_path = \"/Users/cu135/Library/CloudStorage/OneDrive-Personal/OneDrive_Documents/Work/Software/Research/nimlab/gpt_document_reader/cognitive_examinations/research_extractions/inclusion_exclusion_results/raw_results.csv\"\n",
    "json_path = \"/Users/cu135/Library/CloudStorage/OneDrive-Personal/OneDrive_Documents/Work/Software/Research/nimlab/gpt_document_reader/cognitive_examinations/labeled_text/research_labeled_sections.json\""
   ]
  },
  {
   "cell_type": "code",
   "execution_count": null,
   "metadata": {},
   "outputs": [],
   "source": [
    "from calvin_utils.gpt_sys_review.json_utils import FilterPapers\n",
    "\n",
    "# Initialize and run the FilterPapers class\n",
    "filter_papers = FilterPapers(csv_path=csv_path, json_path=json_path)\n",
    "filter_papers.run()"
   ]
  },
  {
   "cell_type": "markdown",
   "metadata": {},
   "source": [
    "02 - Prepare Data Extraction Questions\n",
    "- Dev Note: This is a repeat class and should be inherited from a .py"
   ]
  },
  {
   "cell_type": "code",
   "execution_count": null,
   "metadata": {},
   "outputs": [],
   "source": [
    "from calvin_utils.gpt_sys_review.gpt_utils import QuestionTemplate\n",
    "\n",
    "question_template = QuestionTemplate()\n",
    "question_template.data_extraction_questions()"
   ]
  },
  {
   "cell_type": "markdown",
   "metadata": {},
   "source": [
    "Copy the Template Dict from Above and Fill it Out As per the Example"
   ]
  },
  {
   "cell_type": "code",
   "execution_count": null,
   "metadata": {},
   "outputs": [],
   "source": [
    "question = {\n",
    "    \"Is this test developed to be taken anywhere (Y), or in the clinic (N)?\": \"remote\",\n",
    "    \"What cognitive domains does the developed program assess? Domains are: Language | Memory | Executive | Visuospatial | Fluency.\": \"cognitive_domains\",\n",
    "    \"How is the test administered? Options are: Web application, tablet, phone, or other.\": \"administration_modality\",\n",
    "    \"Name the statistical/machine learning techniques employed.\": \"ml_techniques\",\n",
    "    \"What are the critical results of the study? (AUC, sensitivty, specificty, correlation, etc).\": \"results\",\n",
    "    \"What is the patient population (Sample size, disease states, cognitive status, age, ethnicity).\": \"patient_population\",\n",
    "}"
   ]
  },
  {
   "cell_type": "markdown",
   "metadata": {},
   "source": [
    "03 - Extract Data with GPT\n"
   ]
  },
  {
   "cell_type": "code",
   "execution_count": null,
   "metadata": {},
   "outputs": [],
   "source": [
    "# Define file paths\n",
    "api_key_path = \"/Users/cu135/Library/CloudStorage/OneDrive-Personal/OneDrive_Documents/Work/Software/Research/nimlab/openai_key.txt\"\n",
    "\n",
    "# Define the keys you want to consider (exclude 'References')\n",
    "keys_to_consider = [\"Abstract\", \"Methods\", \"Results\"]  # Add or remove keys as per your requirement\n",
    "\n",
    "# Define the type of article and questions\n",
    "article_type = \"research\""
   ]
  },
  {
   "cell_type": "code",
   "execution_count": null,
   "metadata": {},
   "outputs": [],
   "source": [
    "from calvin_utils.gpt_sys_review.gpt_utils import OpenAIChatEvaluator"
   ]
  },
  {
   "cell_type": "code",
   "execution_count": null,
   "metadata": {},
   "outputs": [],
   "source": [
    "test_mode=False"
   ]
  },
  {
   "cell_type": "code",
   "execution_count": null,
   "metadata": {},
   "outputs": [],
   "source": [
    "evaluator = OpenAIChatEvaluator(api_key_path=api_key_path,\n",
    "                                json_file_path=json_path, \n",
    "                                keys_to_consider=keys_to_consider,\n",
    "                                question_type=article_type,\n",
    "                                question=question,\n",
    "                                test_mode=test_mode)\n",
    "answers = evaluator.evaluate_all_files()\n",
    "evaluator.save_to_json(answers)"
   ]
  },
  {
   "cell_type": "markdown",
   "metadata": {},
   "source": [
    "04 - Convert results to a CSV"
   ]
  },
  {
   "cell_type": "code",
   "execution_count": null,
   "metadata": {},
   "outputs": [],
   "source": [
    "import numpy as np\n",
    "\n",
    "#Map responses to data\n",
    "# Define a dictionary to map keywords in order or priority to values\n",
    "keyword_mapping = None\n",
    "# {\n",
    "#     0: [\"poor\", \"bad\", \"negative\", \"n\", \"no\"],\n",
    "#     1: [\"good\", \"excellent\", \"positive\", \"y\", \"yes\"]\n",
    "# }\n"
   ]
  },
  {
   "cell_type": "code",
   "execution_count": null,
   "metadata": {},
   "outputs": [],
   "source": [
    "json_path = r'/Users/cu135/Library/CloudStorage/OneDrive-Personal/OneDrive_Documents/Work/Software/Research/nimlab/gpt_document_reader/cognitive_examinations/research_extractions/research_evaluations.json'"
   ]
  },
  {
   "cell_type": "code",
   "execution_count": null,
   "metadata": {},
   "outputs": [],
   "source": [
    "from calvin_utils.gpt_sys_review.json_utils import CustomSummarizer\n",
    "\n",
    "# Create an instance of CustomSummarizer\n",
    "custom_summarizer = CustomSummarizer(json_path=json_path, keyword_mapping=keyword_mapping)\n",
    "\n",
    "# Run the custom summarization and save the results to CSV\n",
    "result_df = custom_summarizer.run_custom()\n",
    "\n",
    "# Display the resulting DataFrame\n",
    "print(result_df)"
   ]
  },
  {
   "cell_type": "code",
   "execution_count": null,
   "metadata": {},
   "outputs": [],
   "source": []
  }
 ],
 "metadata": {
  "kernelspec": {
   "display_name": "nimlab_py310",
   "language": "python",
   "name": "python3"
  },
  "language_info": {
   "codemirror_mode": {
    "name": "ipython",
    "version": 3
   },
   "file_extension": ".py",
   "mimetype": "text/x-python",
   "name": "python",
   "nbconvert_exporter": "python",
   "pygments_lexer": "ipython3",
   "version": "3.10.8"
  },
  "orig_nbformat": 4
 },
 "nbformat": 4,
 "nbformat_minor": 2
}
