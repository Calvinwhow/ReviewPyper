{
 "cells": [
  {
   "cell_type": "markdown",
   "metadata": {},
   "source": [
    "1 - Provide Path to your API Key"
   ]
  },
  {
   "cell_type": "code",
   "execution_count": 1,
   "metadata": {},
   "outputs": [],
   "source": [
    "openai_key_path = '/Users/cu135/Library/CloudStorage/OneDrive-Personal/OneDrive_Documents/Work/Software/Research/nimlab/gpt_document_reader/openai_key.txt'"
   ]
  },
  {
   "cell_type": "markdown",
   "metadata": {},
   "source": [
    "2 - Preprocess the Abstracts\n",
    "- Provide the path to the location you saved the .txt file with the abstracts"
   ]
  },
  {
   "cell_type": "code",
   "execution_count": 2,
   "metadata": {},
   "outputs": [],
   "source": [
    "# Define your path to the text file with the abstracts in it\n",
    "abstracts_txt_path = '/Users/cu135/Dropbox (Partners HealthCare)/studies/death_network_mapping/reviewpyper/search_results/abstract-strokeAllF-set.txt'"
   ]
  },
  {
   "cell_type": "code",
   "execution_count": 3,
   "metadata": {},
   "outputs": [
    {
     "data": {
      "text/html": [
       "<div>\n",
       "<style scoped>\n",
       "    .dataframe tbody tr th:only-of-type {\n",
       "        vertical-align: middle;\n",
       "    }\n",
       "\n",
       "    .dataframe tbody tr th {\n",
       "        vertical-align: top;\n",
       "    }\n",
       "\n",
       "    .dataframe thead th {\n",
       "        text-align: right;\n",
       "    }\n",
       "</style>\n",
       "<table border=\"1\" class=\"dataframe\">\n",
       "  <thead>\n",
       "    <tr style=\"text-align: right;\">\n",
       "      <th></th>\n",
       "      <th>Abstract</th>\n",
       "    </tr>\n",
       "  </thead>\n",
       "  <tbody>\n",
       "    <tr>\n",
       "      <th>0</th>\n",
       "      <td>1. Eur Neurol. 2019;81(5-6):309-318. doi: 10.1...</td>\n",
       "    </tr>\n",
       "    <tr>\n",
       "      <th>1</th>\n",
       "      <td>2. Blood Coagul Fibrinolysis. 2013 Jan;24(1):1...</td>\n",
       "    </tr>\n",
       "    <tr>\n",
       "      <th>2</th>\n",
       "      <td>3. Neurol Clin. 2016 Aug;34(3):683-97. doi: 10...</td>\n",
       "    </tr>\n",
       "    <tr>\n",
       "      <th>3</th>\n",
       "      <td>4. Neuroradiol J. 2021 Apr;34(2):147-150. doi:...</td>\n",
       "    </tr>\n",
       "    <tr>\n",
       "      <th>4</th>\n",
       "      <td>5. Acta Neurol Taiwan. 2023 Jun 30;32(2):69-73...</td>\n",
       "    </tr>\n",
       "    <tr>\n",
       "      <th>...</th>\n",
       "      <td>...</td>\n",
       "    </tr>\n",
       "    <tr>\n",
       "      <th>8930</th>\n",
       "      <td>8931. Brain. 2010 Apr;133(Pt 4):1143-54. doi: ...</td>\n",
       "    </tr>\n",
       "    <tr>\n",
       "      <th>8931</th>\n",
       "      <td>8932. J Matern Fetal Neonatal Med. 2018 May;31...</td>\n",
       "    </tr>\n",
       "    <tr>\n",
       "      <th>8932</th>\n",
       "      <td>8933. J Neuroimaging. 2013 Jul;23(3):441-4. do...</td>\n",
       "    </tr>\n",
       "    <tr>\n",
       "      <th>8933</th>\n",
       "      <td>8934. J Am Coll Cardiol. 2022 Nov 8;80(19):177...</td>\n",
       "    </tr>\n",
       "    <tr>\n",
       "      <th>8934</th>\n",
       "      <td>8935. Ann Intern Med. 2016 Nov 1;165(9):650-66...</td>\n",
       "    </tr>\n",
       "  </tbody>\n",
       "</table>\n",
       "<p>8935 rows × 1 columns</p>\n",
       "</div>"
      ],
      "text/plain": [
       "                                               Abstract\n",
       "0     1. Eur Neurol. 2019;81(5-6):309-318. doi: 10.1...\n",
       "1     2. Blood Coagul Fibrinolysis. 2013 Jan;24(1):1...\n",
       "2     3. Neurol Clin. 2016 Aug;34(3):683-97. doi: 10...\n",
       "3     4. Neuroradiol J. 2021 Apr;34(2):147-150. doi:...\n",
       "4     5. Acta Neurol Taiwan. 2023 Jun 30;32(2):69-73...\n",
       "...                                                 ...\n",
       "8930  8931. Brain. 2010 Apr;133(Pt 4):1143-54. doi: ...\n",
       "8931  8932. J Matern Fetal Neonatal Med. 2018 May;31...\n",
       "8932  8933. J Neuroimaging. 2013 Jul;23(3):441-4. do...\n",
       "8933  8934. J Am Coll Cardiol. 2022 Nov 8;80(19):177...\n",
       "8934  8935. Ann Intern Med. 2016 Nov 1;165(9):650-66...\n",
       "\n",
       "[8935 rows x 1 columns]"
      ]
     },
     "execution_count": 3,
     "metadata": {},
     "output_type": "execute_result"
    }
   ],
   "source": [
    "from calvin_utils.gpt_sys_review.txt_utils import AbstractSeparator\n",
    "separator = AbstractSeparator(abstracts_txt_path)\n",
    "df, abstracts_txt_path_preprocessed = separator.run()\n",
    "df"
   ]
  },
  {
   "cell_type": "markdown",
   "metadata": {},
   "source": [
    "3 - Shorten List of Abstracts to Those Passing Title Screen\n",
    "- Define your path to the CSV which contains the successfully screened titles"
   ]
  },
  {
   "cell_type": "code",
   "execution_count": 4,
   "metadata": {},
   "outputs": [],
   "source": [
    "title_review_path = \"/Users/cu135/Dropbox (Partners HealthCare)/studies/death_network_mapping/reviewpyper/search_results/csv-strokeAllF-set_cleaned.csv\""
   ]
  },
  {
   "cell_type": "code",
   "execution_count": 5,
   "metadata": {},
   "outputs": [
    {
     "data": {
      "text/html": [
       "<div>\n",
       "<style scoped>\n",
       "    .dataframe tbody tr th:only-of-type {\n",
       "        vertical-align: middle;\n",
       "    }\n",
       "\n",
       "    .dataframe tbody tr th {\n",
       "        vertical-align: top;\n",
       "    }\n",
       "\n",
       "    .dataframe thead th {\n",
       "        text-align: right;\n",
       "    }\n",
       "</style>\n",
       "<table border=\"1\" class=\"dataframe\">\n",
       "  <thead>\n",
       "    <tr style=\"text-align: right;\">\n",
       "      <th></th>\n",
       "      <th>Abstract</th>\n",
       "    </tr>\n",
       "  </thead>\n",
       "  <tbody>\n",
       "    <tr>\n",
       "      <th>1</th>\n",
       "      <td>2. Blood Coagul Fibrinolysis. 2013 Jan;24(1):1...</td>\n",
       "    </tr>\n",
       "    <tr>\n",
       "      <th>2</th>\n",
       "      <td>3. Neurol Clin. 2016 Aug;34(3):683-97. doi: 10...</td>\n",
       "    </tr>\n",
       "    <tr>\n",
       "      <th>3</th>\n",
       "      <td>4. Neuroradiol J. 2021 Apr;34(2):147-150. doi:...</td>\n",
       "    </tr>\n",
       "    <tr>\n",
       "      <th>4</th>\n",
       "      <td>5. Acta Neurol Taiwan. 2023 Jun 30;32(2):69-73...</td>\n",
       "    </tr>\n",
       "    <tr>\n",
       "      <th>5</th>\n",
       "      <td>6. J Forensic Leg Med. 2023 Jan;93:102474. doi...</td>\n",
       "    </tr>\n",
       "    <tr>\n",
       "      <th>...</th>\n",
       "      <td>...</td>\n",
       "    </tr>\n",
       "    <tr>\n",
       "      <th>8892</th>\n",
       "      <td>8893. Clin Nucl Med. 2001 Sep;26(9):770-3. doi...</td>\n",
       "    </tr>\n",
       "    <tr>\n",
       "      <th>8898</th>\n",
       "      <td>8899. Zh Nevropatol Psikhiatr Im S S Korsakova...</td>\n",
       "    </tr>\n",
       "    <tr>\n",
       "      <th>8906</th>\n",
       "      <td>8907. Clin Infect Dis. 2016 Apr 15;62(8):986-9...</td>\n",
       "    </tr>\n",
       "    <tr>\n",
       "      <th>8916</th>\n",
       "      <td>8917. Am J Phys Med Rehabil. 2007 Feb;86(2):15...</td>\n",
       "    </tr>\n",
       "    <tr>\n",
       "      <th>8925</th>\n",
       "      <td>8926. JAMA Neurol. 2020 Apr 1;77(4):517-521. d...</td>\n",
       "    </tr>\n",
       "  </tbody>\n",
       "</table>\n",
       "<p>3704 rows × 1 columns</p>\n",
       "</div>"
      ],
      "text/plain": [
       "                                               Abstract\n",
       "1     2. Blood Coagul Fibrinolysis. 2013 Jan;24(1):1...\n",
       "2     3. Neurol Clin. 2016 Aug;34(3):683-97. doi: 10...\n",
       "3     4. Neuroradiol J. 2021 Apr;34(2):147-150. doi:...\n",
       "4     5. Acta Neurol Taiwan. 2023 Jun 30;32(2):69-73...\n",
       "5     6. J Forensic Leg Med. 2023 Jan;93:102474. doi...\n",
       "...                                                 ...\n",
       "8892  8893. Clin Nucl Med. 2001 Sep;26(9):770-3. doi...\n",
       "8898  8899. Zh Nevropatol Psikhiatr Im S S Korsakova...\n",
       "8906  8907. Clin Infect Dis. 2016 Apr 15;62(8):986-9...\n",
       "8916  8917. Am J Phys Med Rehabil. 2007 Feb;86(2):15...\n",
       "8925  8926. JAMA Neurol. 2020 Apr 1;77(4):517-521. d...\n",
       "\n",
       "[3704 rows x 1 columns]"
      ]
     },
     "execution_count": 5,
     "metadata": {},
     "output_type": "execute_result"
    }
   ],
   "source": [
    "from calvin_utils.gpt_sys_review.txt_utils import TitleReviewFilter\n",
    "title_review_filter = TitleReviewFilter(title_review_path, abstracts_path=abstracts_txt_path_preprocessed, column_name=\"OpenAI_Screen\")\n",
    "df, abstracts_txt_path_preprocessed_filtered = title_review_filter.run()\n",
    "df"
   ]
  },
  {
   "cell_type": "markdown",
   "metadata": {},
   "source": [
    "4 - Evaluate Abstracts That Passed Title Screen\n",
    "- Define your question, like in this example. Make it a question you WANT a yes to.     \n",
    "      - question =  \"Do you think this article may contain a case report of amnesia?\"\n"
   ]
  },
  {
   "cell_type": "code",
   "execution_count": 6,
   "metadata": {},
   "outputs": [],
   "source": [
    "question = \"Do you think this article may contain a case report or case series of neurological lesion causing death or an arrest?\""
   ]
  },
  {
   "cell_type": "code",
   "execution_count": 7,
   "metadata": {},
   "outputs": [
    {
     "name": "stderr",
     "output_type": "stream",
     "text": [
      "OpenAI Screening: 100%|██████████| 3704/3704 [42:48<00:00,  1.44it/s]  "
     ]
    },
    {
     "name": "stdout",
     "output_type": "stream",
     "text": [
      "Saved finalized CSV to /Users/cu135/Dropbox (Partners HealthCare)/studies/death_network_mapping/reviewpyper/search_results/abstract-strokeAllF-set_cleaned_filtered_cleaned.csv\n"
     ]
    },
    {
     "name": "stderr",
     "output_type": "stream",
     "text": [
      "\n"
     ]
    }
   ],
   "source": [
    "from calvin_utils.gpt_sys_review.gpt_utils import AbstractScreener\n",
    "abstract_screening = AbstractScreener(api_key_path=openai_key_path, csv_path=abstracts_txt_path_preprocessed_filtered, question=question, model_choice=\"gpt4\", keywords=[\"amnesia\", \"memory\", \"amnestic\", \"forget\"])\n",
    "screened_abstract_path = abstract_screening.run()"
   ]
  },
  {
   "cell_type": "markdown",
   "metadata": {},
   "source": [
    "5 - Postprocess Results"
   ]
  },
  {
   "cell_type": "code",
   "execution_count": 8,
   "metadata": {},
   "outputs": [
    {
     "name": "stdout",
     "output_type": "stream",
     "text": [
      "Saved Master List to: \n",
      " /Users/cu135/Dropbox (Partners HealthCare)/studies/death_network_mapping/reviewpyper/search_results/master_list.csv\n"
     ]
    },
    {
     "data": {
      "text/html": [
       "<div>\n",
       "<style scoped>\n",
       "    .dataframe tbody tr th:only-of-type {\n",
       "        vertical-align: middle;\n",
       "    }\n",
       "\n",
       "    .dataframe tbody tr th {\n",
       "        vertical-align: top;\n",
       "    }\n",
       "\n",
       "    .dataframe thead th {\n",
       "        text-align: right;\n",
       "    }\n",
       "</style>\n",
       "<table border=\"1\" class=\"dataframe\">\n",
       "  <thead>\n",
       "    <tr style=\"text-align: right;\">\n",
       "      <th></th>\n",
       "      <th>PMID</th>\n",
       "      <th>Title</th>\n",
       "      <th>Authors</th>\n",
       "      <th>Citation</th>\n",
       "      <th>First Author</th>\n",
       "      <th>Journal/Book</th>\n",
       "      <th>Publication Year</th>\n",
       "      <th>Create Date</th>\n",
       "      <th>PMCID</th>\n",
       "      <th>NIHMS ID</th>\n",
       "      <th>DOI</th>\n",
       "      <th>OpenAI_Screen</th>\n",
       "      <th>Abstract</th>\n",
       "      <th>OpenAI_Screen_Abstract</th>\n",
       "    </tr>\n",
       "  </thead>\n",
       "  <tbody>\n",
       "    <tr>\n",
       "      <th>0</th>\n",
       "      <td>31487724</td>\n",
       "      <td>Charcot and Cholesterin</td>\n",
       "      <td>Walusinski O.</td>\n",
       "      <td>Eur Neurol. 2019;81(5-6):309-318. doi: 10.1159...</td>\n",
       "      <td>Walusinski O</td>\n",
       "      <td>Eur Neurol</td>\n",
       "      <td>2019</td>\n",
       "      <td>2019/09/06</td>\n",
       "      <td>NaN</td>\n",
       "      <td>NaN</td>\n",
       "      <td>10.1159/000502576</td>\n",
       "      <td>0</td>\n",
       "      <td>1. Eur Neurol. 2019;81(5-6):309-318. doi: 10.1...</td>\n",
       "      <td>NaN</td>\n",
       "    </tr>\n",
       "    <tr>\n",
       "      <th>1</th>\n",
       "      <td>23103724</td>\n",
       "      <td>Mucormycosis-associated intracranial hemorrhage</td>\n",
       "      <td>Munoz J, Hughes A, Guo Y.</td>\n",
       "      <td>Blood Coagul Fibrinolysis. 2013 Jan;24(1):100-...</td>\n",
       "      <td>Munoz J</td>\n",
       "      <td>Blood Coagul Fibrinolysis</td>\n",
       "      <td>2013</td>\n",
       "      <td>2012/10/30</td>\n",
       "      <td>NaN</td>\n",
       "      <td>NaN</td>\n",
       "      <td>10.1097/MBC.0b013e32835a72df</td>\n",
       "      <td>1</td>\n",
       "      <td>2. Blood Coagul Fibrinolysis. 2013 Jan;24(1):1...</td>\n",
       "      <td>1.0</td>\n",
       "    </tr>\n",
       "  </tbody>\n",
       "</table>\n",
       "</div>"
      ],
      "text/plain": [
       "       PMID                                            Title  \\\n",
       "0  31487724                          Charcot and Cholesterin   \n",
       "1  23103724  Mucormycosis-associated intracranial hemorrhage   \n",
       "\n",
       "                     Authors  \\\n",
       "0              Walusinski O.   \n",
       "1  Munoz J, Hughes A, Guo Y.   \n",
       "\n",
       "                                            Citation  First Author  \\\n",
       "0  Eur Neurol. 2019;81(5-6):309-318. doi: 10.1159...  Walusinski O   \n",
       "1  Blood Coagul Fibrinolysis. 2013 Jan;24(1):100-...       Munoz J   \n",
       "\n",
       "                Journal/Book  Publication Year Create Date PMCID NIHMS ID  \\\n",
       "0                 Eur Neurol              2019  2019/09/06   NaN      NaN   \n",
       "1  Blood Coagul Fibrinolysis              2013  2012/10/30   NaN      NaN   \n",
       "\n",
       "                            DOI  OpenAI_Screen  \\\n",
       "0             10.1159/000502576              0   \n",
       "1  10.1097/MBC.0b013e32835a72df              1   \n",
       "\n",
       "                                            Abstract  OpenAI_Screen_Abstract  \n",
       "0  1. Eur Neurol. 2019;81(5-6):309-318. doi: 10.1...                     NaN  \n",
       "1  2. Blood Coagul Fibrinolysis. 2013 Jan;24(1):1...                     1.0  "
      ]
     },
     "execution_count": 8,
     "metadata": {},
     "output_type": "execute_result"
    }
   ],
   "source": [
    "from calvin_utils.gpt_sys_review.txt_utils import PostProcessing\n",
    "post_processor = PostProcessing(file1_path=abstracts_txt_path_preprocessed, file2_path=screened_abstract_path, pubmed_csv_path=title_review_path)\n",
    "df = post_processor.run()\n",
    "df.head(2)"
   ]
  },
  {
   "cell_type": "markdown",
   "metadata": {},
   "source": [
    "Your abstracts have now been screened. \n",
    "- If you are curious about screening titles then abstracts versus titles and abstracts, please see this study: \n",
    "    - doi: 10.2147/CLEP.S43118\n",
    "- Enjoy. If this has been helpful, please consider adding Calvin Howard as a collaborator. \n",
    "- e: choward12@bwh.harvard.edu"
   ]
  }
 ],
 "metadata": {
  "kernelspec": {
   "display_name": "Python3.10 (nimlab)",
   "language": "python",
   "name": "nimlab_py310"
  },
  "language_info": {
   "codemirror_mode": {
    "name": "ipython",
    "version": 3
   },
   "file_extension": ".py",
   "mimetype": "text/x-python",
   "name": "python",
   "nbconvert_exporter": "python",
   "pygments_lexer": "ipython3",
   "version": "3.10.8"
  },
  "orig_nbformat": 4
 },
 "nbformat": 4,
 "nbformat_minor": 2
}
