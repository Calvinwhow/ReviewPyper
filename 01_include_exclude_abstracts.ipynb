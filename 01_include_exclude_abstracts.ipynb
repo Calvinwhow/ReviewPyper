{
 "cells": [
  {
   "cell_type": "markdown",
   "metadata": {},
   "source": [
    "1 - Provide Path to your API Key"
   ]
  },
  {
   "cell_type": "code",
   "execution_count": 1,
   "metadata": {},
   "outputs": [],
   "source": [
    "openai_key_path = '/Users/cu135/Library/CloudStorage/OneDrive-Personal/OneDrive_Documents/Work/Software/Research/nimlab/gpt_document_reader/openai_key.txt'"
   ]
  },
  {
   "cell_type": "markdown",
   "metadata": {},
   "source": [
    "2 - Preprocess the Abstracts\n",
    "- Provide the path to the location you saved the .txt file with the abstracts"
   ]
  },
  {
   "cell_type": "code",
   "execution_count": 2,
   "metadata": {},
   "outputs": [],
   "source": [
    "# Define your path to the text file with the abstracts in it\n",
    "abstracts_txt_path = '/Users/cu135/Dropbox (Partners HealthCare)/studies/CLOCC/search_results/abstract-CytotoxicL-set.txt'"
   ]
  },
  {
   "cell_type": "code",
   "execution_count": 3,
   "metadata": {},
   "outputs": [
    {
     "data": {
      "text/html": [
       "<div>\n",
       "<style scoped>\n",
       "    .dataframe tbody tr th:only-of-type {\n",
       "        vertical-align: middle;\n",
       "    }\n",
       "\n",
       "    .dataframe tbody tr th {\n",
       "        vertical-align: top;\n",
       "    }\n",
       "\n",
       "    .dataframe thead th {\n",
       "        text-align: right;\n",
       "    }\n",
       "</style>\n",
       "<table border=\"1\" class=\"dataframe\">\n",
       "  <thead>\n",
       "    <tr style=\"text-align: right;\">\n",
       "      <th></th>\n",
       "      <th>Abstract</th>\n",
       "    </tr>\n",
       "  </thead>\n",
       "  <tbody>\n",
       "    <tr>\n",
       "      <th>0</th>\n",
       "      <td>1. Radiographics. 2017 Mar-Apr;37(2):562-576. ...</td>\n",
       "    </tr>\n",
       "    <tr>\n",
       "      <th>1</th>\n",
       "      <td>2. Brain Behav. 2019 Nov;9(11):e01440. doi: 10...</td>\n",
       "    </tr>\n",
       "    <tr>\n",
       "      <th>2</th>\n",
       "      <td>3. Rev Med Liege. 2020 Feb;75(2):78-82.\\n\\n[Cy...</td>\n",
       "    </tr>\n",
       "    <tr>\n",
       "      <th>3</th>\n",
       "      <td>4. Eur Radiol. 2023 Dec 26. doi: 10.1007/s0033...</td>\n",
       "    </tr>\n",
       "    <tr>\n",
       "      <th>4</th>\n",
       "      <td>5. Acta Neurol Belg. 2023 Apr;123(2):619-621. ...</td>\n",
       "    </tr>\n",
       "    <tr>\n",
       "      <th>...</th>\n",
       "      <td>...</td>\n",
       "    </tr>\n",
       "    <tr>\n",
       "      <th>119</th>\n",
       "      <td>120. Matern Child Health J. 2013 Nov;17(9):171...</td>\n",
       "    </tr>\n",
       "    <tr>\n",
       "      <th>120</th>\n",
       "      <td>121. Noro Psikiyatr Ars. 2014 Mar;51(1):86-89....</td>\n",
       "    </tr>\n",
       "    <tr>\n",
       "      <th>121</th>\n",
       "      <td>122. Neuroradiol J. 2015 Aug;28(4):409-12. doi...</td>\n",
       "    </tr>\n",
       "    <tr>\n",
       "      <th>122</th>\n",
       "      <td>123. Neurologia. 2008 Jan-Feb;23(1):65-8.\\n\\n[...</td>\n",
       "    </tr>\n",
       "    <tr>\n",
       "      <th>123</th>\n",
       "      <td>124. No To Shinkei. 2004 Dec;56(12):1017-23.\\n...</td>\n",
       "    </tr>\n",
       "  </tbody>\n",
       "</table>\n",
       "<p>124 rows × 1 columns</p>\n",
       "</div>"
      ],
      "text/plain": [
       "                                              Abstract\n",
       "0    1. Radiographics. 2017 Mar-Apr;37(2):562-576. ...\n",
       "1    2. Brain Behav. 2019 Nov;9(11):e01440. doi: 10...\n",
       "2    3. Rev Med Liege. 2020 Feb;75(2):78-82.\\n\\n[Cy...\n",
       "3    4. Eur Radiol. 2023 Dec 26. doi: 10.1007/s0033...\n",
       "4    5. Acta Neurol Belg. 2023 Apr;123(2):619-621. ...\n",
       "..                                                 ...\n",
       "119  120. Matern Child Health J. 2013 Nov;17(9):171...\n",
       "120  121. Noro Psikiyatr Ars. 2014 Mar;51(1):86-89....\n",
       "121  122. Neuroradiol J. 2015 Aug;28(4):409-12. doi...\n",
       "122  123. Neurologia. 2008 Jan-Feb;23(1):65-8.\\n\\n[...\n",
       "123  124. No To Shinkei. 2004 Dec;56(12):1017-23.\\n...\n",
       "\n",
       "[124 rows x 1 columns]"
      ]
     },
     "execution_count": 3,
     "metadata": {},
     "output_type": "execute_result"
    }
   ],
   "source": [
    "from calvin_utils.gpt_sys_review.txt_utils import AbstractSeparator\n",
    "separator = AbstractSeparator(abstracts_txt_path)\n",
    "df, abstracts_txt_path_preprocessed = separator.run()\n",
    "df"
   ]
  },
  {
   "cell_type": "markdown",
   "metadata": {},
   "source": [
    "3 - Shorten List of Abstracts to Those Passing Title Screen\n",
    "- Define your path to the CSV which contains the successfully screened titles"
   ]
  },
  {
   "cell_type": "code",
   "execution_count": 4,
   "metadata": {},
   "outputs": [],
   "source": [
    "title_review_path = \"/Users/cu135/Dropbox (Partners HealthCare)/studies/CLOCC/search_results/csv-CytotoxicL-set_cleaned.csv\""
   ]
  },
  {
   "cell_type": "code",
   "execution_count": 5,
   "metadata": {},
   "outputs": [
    {
     "data": {
      "text/html": [
       "<div>\n",
       "<style scoped>\n",
       "    .dataframe tbody tr th:only-of-type {\n",
       "        vertical-align: middle;\n",
       "    }\n",
       "\n",
       "    .dataframe tbody tr th {\n",
       "        vertical-align: top;\n",
       "    }\n",
       "\n",
       "    .dataframe thead th {\n",
       "        text-align: right;\n",
       "    }\n",
       "</style>\n",
       "<table border=\"1\" class=\"dataframe\">\n",
       "  <thead>\n",
       "    <tr style=\"text-align: right;\">\n",
       "      <th></th>\n",
       "      <th>Abstract</th>\n",
       "    </tr>\n",
       "  </thead>\n",
       "  <tbody>\n",
       "    <tr>\n",
       "      <th>0</th>\n",
       "      <td>1. Radiographics. 2017 Mar-Apr;37(2):562-576. ...</td>\n",
       "    </tr>\n",
       "    <tr>\n",
       "      <th>1</th>\n",
       "      <td>2. Brain Behav. 2019 Nov;9(11):e01440. doi: 10...</td>\n",
       "    </tr>\n",
       "    <tr>\n",
       "      <th>2</th>\n",
       "      <td>3. Rev Med Liege. 2020 Feb;75(2):78-82.\\n\\n[Cy...</td>\n",
       "    </tr>\n",
       "    <tr>\n",
       "      <th>3</th>\n",
       "      <td>4. Eur Radiol. 2023 Dec 26. doi: 10.1007/s0033...</td>\n",
       "    </tr>\n",
       "    <tr>\n",
       "      <th>4</th>\n",
       "      <td>5. Acta Neurol Belg. 2023 Apr;123(2):619-621. ...</td>\n",
       "    </tr>\n",
       "    <tr>\n",
       "      <th>...</th>\n",
       "      <td>...</td>\n",
       "    </tr>\n",
       "    <tr>\n",
       "      <th>114</th>\n",
       "      <td>115. Neuroradiology. 2006 Jul;48(7):443-8. doi...</td>\n",
       "    </tr>\n",
       "    <tr>\n",
       "      <th>115</th>\n",
       "      <td>116. Clin Neuropharmacol. 2017 Sep/Oct;40(5):2...</td>\n",
       "    </tr>\n",
       "    <tr>\n",
       "      <th>116</th>\n",
       "      <td>117. Rinsho Shinkeigaku. 2015;55(3):174-7. doi...</td>\n",
       "    </tr>\n",
       "    <tr>\n",
       "      <th>118</th>\n",
       "      <td>119. Front Neurol. 2024 Jan 4;14:1322302. doi:...</td>\n",
       "    </tr>\n",
       "    <tr>\n",
       "      <th>121</th>\n",
       "      <td>122. Neuroradiol J. 2015 Aug;28(4):409-12. doi...</td>\n",
       "    </tr>\n",
       "  </tbody>\n",
       "</table>\n",
       "<p>88 rows × 1 columns</p>\n",
       "</div>"
      ],
      "text/plain": [
       "                                              Abstract\n",
       "0    1. Radiographics. 2017 Mar-Apr;37(2):562-576. ...\n",
       "1    2. Brain Behav. 2019 Nov;9(11):e01440. doi: 10...\n",
       "2    3. Rev Med Liege. 2020 Feb;75(2):78-82.\\n\\n[Cy...\n",
       "3    4. Eur Radiol. 2023 Dec 26. doi: 10.1007/s0033...\n",
       "4    5. Acta Neurol Belg. 2023 Apr;123(2):619-621. ...\n",
       "..                                                 ...\n",
       "114  115. Neuroradiology. 2006 Jul;48(7):443-8. doi...\n",
       "115  116. Clin Neuropharmacol. 2017 Sep/Oct;40(5):2...\n",
       "116  117. Rinsho Shinkeigaku. 2015;55(3):174-7. doi...\n",
       "118  119. Front Neurol. 2024 Jan 4;14:1322302. doi:...\n",
       "121  122. Neuroradiol J. 2015 Aug;28(4):409-12. doi...\n",
       "\n",
       "[88 rows x 1 columns]"
      ]
     },
     "execution_count": 5,
     "metadata": {},
     "output_type": "execute_result"
    }
   ],
   "source": [
    "from calvin_utils.gpt_sys_review.txt_utils import TitleReviewFilter\n",
    "title_review_filter = TitleReviewFilter(title_review_path, abstracts_path=abstracts_txt_path_preprocessed, column_name=\"OpenAI_Screen\")\n",
    "df, abstracts_txt_path_preprocessed_filtered = title_review_filter.run()\n",
    "df"
   ]
  },
  {
   "cell_type": "markdown",
   "metadata": {},
   "source": [
    "4 - Evaluate Abstracts That Passed Title Screen\n",
    "- Define your question, like in this example. Make it a question you WANT a yes to.     \n",
    "      - question =  \"Do you think this article may contain a case report of amnesia?\"\n"
   ]
  },
  {
   "cell_type": "code",
   "execution_count": 6,
   "metadata": {},
   "outputs": [],
   "source": [
    "question = \"Do you think this article may contain a case report or case series with a cytotoxic lesion of the corpus callosum (a CLOCC), or a corpus callosum lesion?\""
   ]
  },
  {
   "cell_type": "code",
   "execution_count": 7,
   "metadata": {},
   "outputs": [
    {
     "name": "stderr",
     "output_type": "stream",
     "text": [
      "OpenAI Screening: 100%|██████████| 88/88 [00:58<00:00,  1.49it/s]"
     ]
    },
    {
     "name": "stdout",
     "output_type": "stream",
     "text": [
      "Saved finalized CSV to /Users/cu135/Dropbox (Partners HealthCare)/studies/CLOCC/search_results/abstract-CytotoxicL-set_cleaned_filtered_cleaned.csv\n"
     ]
    },
    {
     "name": "stderr",
     "output_type": "stream",
     "text": [
      "\n"
     ]
    }
   ],
   "source": [
    "from calvin_utils.gpt_sys_review.gpt_utils import AbstractScreener\n",
    "abstract_screening = AbstractScreener(api_key_path=openai_key_path, csv_path=abstracts_txt_path_preprocessed_filtered, question=question, model_choice=\"gpt4\", keywords=[\"amnesia\", \"memory\", \"amnestic\", \"forget\"])\n",
    "screened_abstract_path = abstract_screening.run()"
   ]
  },
  {
   "cell_type": "markdown",
   "metadata": {},
   "source": [
    "5 - Postprocess Results"
   ]
  },
  {
   "cell_type": "code",
   "execution_count": 8,
   "metadata": {},
   "outputs": [
    {
     "name": "stdout",
     "output_type": "stream",
     "text": [
      "Saved Master List to: \n",
      " /Users/cu135/Dropbox (Partners HealthCare)/studies/CLOCC/search_results/master_list.csv\n"
     ]
    },
    {
     "data": {
      "text/html": [
       "<div>\n",
       "<style scoped>\n",
       "    .dataframe tbody tr th:only-of-type {\n",
       "        vertical-align: middle;\n",
       "    }\n",
       "\n",
       "    .dataframe tbody tr th {\n",
       "        vertical-align: top;\n",
       "    }\n",
       "\n",
       "    .dataframe thead th {\n",
       "        text-align: right;\n",
       "    }\n",
       "</style>\n",
       "<table border=\"1\" class=\"dataframe\">\n",
       "  <thead>\n",
       "    <tr style=\"text-align: right;\">\n",
       "      <th></th>\n",
       "      <th>PMID</th>\n",
       "      <th>Title</th>\n",
       "      <th>Authors</th>\n",
       "      <th>Citation</th>\n",
       "      <th>First Author</th>\n",
       "      <th>Journal/Book</th>\n",
       "      <th>Publication Year</th>\n",
       "      <th>Create Date</th>\n",
       "      <th>PMCID</th>\n",
       "      <th>NIHMS ID</th>\n",
       "      <th>DOI</th>\n",
       "      <th>OpenAI_Screen</th>\n",
       "      <th>Abstract</th>\n",
       "      <th>OpenAI_Screen_Abstract</th>\n",
       "    </tr>\n",
       "  </thead>\n",
       "  <tbody>\n",
       "    <tr>\n",
       "      <th>0</th>\n",
       "      <td>28165876</td>\n",
       "      <td>Cytotoxic Lesions of the Corpus Callosum That ...</td>\n",
       "      <td>Starkey J, Kobayashi N, Numaguchi Y, Moritani T.</td>\n",
       "      <td>Radiographics. 2017 Mar-Apr;37(2):562-576. doi...</td>\n",
       "      <td>Starkey J</td>\n",
       "      <td>Radiographics</td>\n",
       "      <td>2017</td>\n",
       "      <td>2017/02/07</td>\n",
       "      <td>NaN</td>\n",
       "      <td>NaN</td>\n",
       "      <td>10.1148/rg.2017160085</td>\n",
       "      <td>1</td>\n",
       "      <td>1. Radiographics. 2017 Mar-Apr;37(2):562-576. ...</td>\n",
       "      <td>1.0</td>\n",
       "    </tr>\n",
       "    <tr>\n",
       "      <th>1</th>\n",
       "      <td>31588684</td>\n",
       "      <td>Reversible lesion in the splenium of the corpu...</td>\n",
       "      <td>Tetsuka S.</td>\n",
       "      <td>Brain Behav. 2019 Nov;9(11):e01440. doi: 10.10...</td>\n",
       "      <td>Tetsuka S</td>\n",
       "      <td>Brain Behav</td>\n",
       "      <td>2019</td>\n",
       "      <td>2019/10/08</td>\n",
       "      <td>PMC6851813</td>\n",
       "      <td>NaN</td>\n",
       "      <td>10.1002/brb3.1440</td>\n",
       "      <td>1</td>\n",
       "      <td>2. Brain Behav. 2019 Nov;9(11):e01440. doi: 10...</td>\n",
       "      <td>0.0</td>\n",
       "    </tr>\n",
       "  </tbody>\n",
       "</table>\n",
       "</div>"
      ],
      "text/plain": [
       "       PMID                                              Title  \\\n",
       "0  28165876  Cytotoxic Lesions of the Corpus Callosum That ...   \n",
       "1  31588684  Reversible lesion in the splenium of the corpu...   \n",
       "\n",
       "                                            Authors  \\\n",
       "0  Starkey J, Kobayashi N, Numaguchi Y, Moritani T.   \n",
       "1                                        Tetsuka S.   \n",
       "\n",
       "                                            Citation First Author  \\\n",
       "0  Radiographics. 2017 Mar-Apr;37(2):562-576. doi...    Starkey J   \n",
       "1  Brain Behav. 2019 Nov;9(11):e01440. doi: 10.10...    Tetsuka S   \n",
       "\n",
       "    Journal/Book  Publication Year Create Date       PMCID  NIHMS ID  \\\n",
       "0  Radiographics              2017  2017/02/07         NaN       NaN   \n",
       "1    Brain Behav              2019  2019/10/08  PMC6851813       NaN   \n",
       "\n",
       "                     DOI  OpenAI_Screen  \\\n",
       "0  10.1148/rg.2017160085              1   \n",
       "1      10.1002/brb3.1440              1   \n",
       "\n",
       "                                            Abstract  OpenAI_Screen_Abstract  \n",
       "0  1. Radiographics. 2017 Mar-Apr;37(2):562-576. ...                     1.0  \n",
       "1  2. Brain Behav. 2019 Nov;9(11):e01440. doi: 10...                     0.0  "
      ]
     },
     "execution_count": 8,
     "metadata": {},
     "output_type": "execute_result"
    }
   ],
   "source": [
    "from calvin_utils.gpt_sys_review.txt_utils import PostProcessing\n",
    "post_processor = PostProcessing(file1_path=abstracts_txt_path_preprocessed, file2_path=screened_abstract_path, pubmed_csv_path=title_review_path)\n",
    "df = post_processor.run()\n",
    "df.head(2)"
   ]
  },
  {
   "cell_type": "markdown",
   "metadata": {},
   "source": [
    "Your abstracts have now been screened. \n",
    "- If you are curious about screening titles then abstracts versus titles and abstracts, please see this study: \n",
    "    - doi: 10.2147/CLEP.S43118\n",
    "- Enjoy. If this has been helpful, please consider adding Calvin Howard as a collaborator. \n",
    "- e: choward12@bwh.harvard.edu"
   ]
  },
  {
   "cell_type": "markdown",
   "metadata": {},
   "source": []
  }
 ],
 "metadata": {
  "kernelspec": {
   "display_name": "Python3.10 (nimlab)",
   "language": "python",
   "name": "nimlab_py310"
  },
  "language_info": {
   "codemirror_mode": {
    "name": "ipython",
    "version": 3
   },
   "file_extension": ".py",
   "mimetype": "text/x-python",
   "name": "python",
   "nbconvert_exporter": "python",
   "pygments_lexer": "ipython3",
   "version": "3.10.8"
  },
  "orig_nbformat": 4
 },
 "nbformat": 4,
 "nbformat_minor": 2
}
