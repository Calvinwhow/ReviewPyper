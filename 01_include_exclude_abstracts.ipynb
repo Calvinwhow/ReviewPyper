{
 "cells": [
  {
   "cell_type": "markdown",
   "metadata": {},
   "source": [
    "#### There are two options for this notebook, depending on how your abstracts are stored. \n",
    "1. If they are in a separate .txt file (common if you manually searched and downloaded from PubMed), then use Option 1. \n",
    "2. If they are already in your master .csv file (common if you used searched PubMed programmatically), then use Option 2.\n",
    "\n",
    "### Option 1: If you have a separate .txt file for abstracts\n",
    "\n",
    "**Run the following cells if your abstracts are in a separate .txt file.**"
   ]
  },
  {
   "cell_type": "markdown",
   "metadata": {},
   "source": [
    "**1 - Provide Path to your API Key**"
   ]
  },
  {
   "cell_type": "code",
   "execution_count": null,
   "metadata": {},
   "outputs": [],
   "source": [
    "openai_key_path = 'api_key.txt'"
   ]
  },
  {
   "cell_type": "markdown",
   "metadata": {},
   "source": [
    "**2 - Preprocess the Abstracts**\n",
    "- Provide the path to the location you saved the .txt file with the abstracts"
   ]
  },
  {
   "cell_type": "code",
   "execution_count": null,
   "metadata": {},
   "outputs": [],
   "source": [
    "# Define your path to the text file with the abstracts in it\n",
    "abstracts_txt_path = '/Users/cu135/Dropbox (Partners HealthCare)/studies/death_network_mapping/reviewpyper/search_results/abstract-strokeAllF-set.txt'"
   ]
  },
  {
   "cell_type": "code",
   "execution_count": null,
   "metadata": {},
   "outputs": [],
   "source": [
    "from calvin_utils.gpt_sys_review.txt_utils import AbstractSeparator\n",
    "separator = AbstractSeparator(abstracts_txt_path)\n",
    "df, abstracts_txt_path_preprocessed = separator.run()\n",
    "df"
   ]
  },
  {
   "cell_type": "markdown",
   "metadata": {},
   "source": [
    "**3 - Shorten List of Abstracts to Those Passing Title Screen**\n",
    "- Define your path to the CSV which contains the successfully screened titles"
   ]
  },
  {
   "cell_type": "code",
   "execution_count": null,
   "metadata": {},
   "outputs": [],
   "source": [
    "title_review_path = \"master_list_cleaned.csv\""
   ]
  },
  {
   "cell_type": "code",
   "execution_count": null,
   "metadata": {},
   "outputs": [],
   "source": [
    "from calvin_utils.gpt_sys_review.txt_utils import TitleReviewFilter\n",
    "title_review_filter = TitleReviewFilter(title_review_path, abstracts_path=abstracts_txt_path_preprocessed, column_name=\"OpenAI_Screen\")\n",
    "df, abstracts_txt_path_preprocessed_filtered = title_review_filter.run()\n",
    "df"
   ]
  },
  {
   "cell_type": "markdown",
   "metadata": {},
   "source": [
    "**4 - Evaluate Abstracts That Passed Title Screen**\n",
    "- Define your question, like in this example. Make it a question you WANT a yes to.     \n",
    "      - question =  \"Do you think this article may contain a case report of amnesia?\"\n"
   ]
  },
  {
   "cell_type": "code",
   "execution_count": null,
   "metadata": {},
   "outputs": [],
   "source": [
    "question = \"Do you think this article may contain a case report or case series of neurological lesion causing death or an arrest?\""
   ]
  },
  {
   "cell_type": "code",
   "execution_count": null,
   "metadata": {},
   "outputs": [],
   "source": [
    "from calvin_utils.gpt_sys_review.gpt_utils import AbstractScreener\n",
    "abstract_screening = AbstractScreener(api_key_path=openai_key_path, csv_path=abstracts_txt_path_preprocessed_filtered, question=question, model_choice=\"gpt3_large\", keywords=[\"amnesia\", \"memory\", \"amnestic\", \"forget\"])\n",
    "screened_abstract_path = abstract_screening.run()"
   ]
  },
  {
   "cell_type": "markdown",
   "metadata": {},
   "source": [
    "**5 - Postprocess Results**"
   ]
  },
  {
   "cell_type": "code",
   "execution_count": null,
   "metadata": {},
   "outputs": [],
   "source": [
    "from calvin_utils.gpt_sys_review.txt_utils import PostProcessing\n",
    "post_processor = PostProcessing(file1_path=abstracts_txt_path_preprocessed, file2_path=screened_abstract_path, pubmed_csv_path=title_review_path)\n",
    "df = post_processor.run()\n",
    "df.head(2)"
   ]
  },
  {
   "cell_type": "markdown",
   "metadata": {},
   "source": [
    "### Option 2: Abstracts already in your Master CSV\n",
    "\n",
    "**If your abstracts are already found in your CSV, run the following cells:**"
   ]
  },
  {
   "cell_type": "markdown",
   "metadata": {},
   "source": [
    "**1 - Provide Path to your API Key**"
   ]
  },
  {
   "cell_type": "code",
   "execution_count": 1,
   "metadata": {},
   "outputs": [],
   "source": [
    "openai_key_path = 'api_key.txt'"
   ]
  },
  {
   "cell_type": "markdown",
   "metadata": {},
   "source": [
    "**2 - Provide Path to your Master CSV**\n",
    "(You should have already run the \"Include Exclude Titles\" notebook, where this CSV was created)"
   ]
  },
  {
   "cell_type": "code",
   "execution_count": 2,
   "metadata": {},
   "outputs": [],
   "source": [
    "title_review_path = \"master_list_cleaned.csv\""
   ]
  },
  {
   "cell_type": "markdown",
   "metadata": {},
   "source": [
    "**3 - Evaluate Abstracts**"
   ]
  },
  {
   "cell_type": "code",
   "execution_count": 3,
   "metadata": {},
   "outputs": [
    {
     "name": "stderr",
     "output_type": "stream",
     "text": [
      "OpenAI Screening: 100%|██████████| 2/2 [00:01<00:00,  1.24it/s]"
     ]
    },
    {
     "name": "stdout",
     "output_type": "stream",
     "text": [
      "Saved finalized CSV to master_list_cleaned_cleaned.csv\n"
     ]
    },
    {
     "name": "stderr",
     "output_type": "stream",
     "text": [
      "\n"
     ]
    }
   ],
   "source": [
    "from calvin_utils.gpt_sys_review.gpt_utils import AbstractScreener\n",
    "\n",
    "question = \"Do you think this article may contain a case report of a human brain lesion?\"\n",
    "\n",
    "abstract_screening = AbstractScreener(api_key_path=openai_key_path, csv_path=title_review_path, question=question, model_choice=\"gpt3_large\", keywords=[\"amnesia\", \"memory\", \"amnestic\", \"forget\"])\n",
    "screened_abstract_path = abstract_screening.run()"
   ]
  },
  {
   "cell_type": "markdown",
   "metadata": {},
   "source": [
    "Your abstracts have now been screened. \n",
    "- If you are curious about screening titles then abstracts versus titles and abstracts, please see this study: \n",
    "    - doi: 10.2147/CLEP.S43118\n",
    "- Enjoy. If this has been helpful, please consider adding Calvin Howard as a collaborator. \n",
    "- e: choward12@bwh.harvard.edu"
   ]
  }
 ],
 "metadata": {
  "kernelspec": {
   "display_name": "reviewpyper_env",
   "language": "python",
   "name": "python3"
  },
  "language_info": {
   "codemirror_mode": {
    "name": "ipython",
    "version": 3
   },
   "file_extension": ".py",
   "mimetype": "text/x-python",
   "name": "python",
   "nbconvert_exporter": "python",
   "pygments_lexer": "ipython3",
   "version": "3.11.8"
  },
  "orig_nbformat": 4
 },
 "nbformat": 4,
 "nbformat_minor": 2
}
