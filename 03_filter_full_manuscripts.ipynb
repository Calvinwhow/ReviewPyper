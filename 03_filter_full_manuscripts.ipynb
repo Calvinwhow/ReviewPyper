{
 "cells": [
  {
   "cell_type": "markdown",
   "metadata": {},
   "source": [
    "# 00 - Provide Paths to Relevant Files\n",
    "\n",
    "json_file_path is the path to the segmented JSON generated at the end of notebook 02. "
   ]
  },
  {
   "cell_type": "code",
   "execution_count": null,
   "metadata": {},
   "outputs": [],
   "source": [
    "api_key_path = \"/Users/cu135/Library/CloudStorage/OneDrive-Personal/OneDrive_Documents/Work/Software/Research/nimlab/openai_key.txt\"\n",
    "json_file_path = \"/Users/cu135/Library/CloudStorage/OneDrive-Personal/OneDrive_Documents/Work/Software/Research/nimlab/gpt_document_reader/cognitive_examinations/labeled_text/research_labeled_sections.json\"\n"
   ]
  },
  {
   "cell_type": "markdown",
   "metadata": {},
   "source": [
    "# 01 - Define Inclusion/Exclusion Questions\n",
    "\n",
    "Examples generated below:"
   ]
  },
  {
   "cell_type": "code",
   "execution_count": null,
   "metadata": {},
   "outputs": [],
   "source": [
    "from calvin_utils.gpt_sys_review.gpt_utils import QuestionTemplate\n",
    "\n",
    "question_template = QuestionTemplate()\n",
    "question_template.inclusion_exclusion_questions()"
   ]
  },
  {
   "cell_type": "markdown",
   "metadata": {},
   "source": [
    "**Critical Note**\n",
    "- You should phrase these questions such that a Yes results in the manuscript 'passing'\n",
    "- This can be made more robust by having users deliberately map a Yes for each question to whether it is good or not. "
   ]
  },
  {
   "cell_type": "code",
   "execution_count": null,
   "metadata": {},
   "outputs": [],
   "source": [
    "question = {\n",
    "    \"Prioritizing implicit and explicit information, do you think this includes research on a software-based test? Such as if an iPad or web application is mentioned. (Yes/No)\": \"software_based\",\n",
    "    \"Prioritizing implicit and explicit information, do you think this uses cognitive examinations? A cognitive examination is a test wherein a patient performs a task and is scored on the output, like the Montreal Cognitive Examination. (Yes/No)\": \"cognitive_exam\",\n",
    "    \"Prioritizing implicit and explicit information, do you think the cognitive examination is self-administered or otherwise unsupervised? (Yes/No)\": \"unsupervised\"\n",
    "}"
   ]
  },
  {
   "cell_type": "markdown",
   "metadata": {},
   "source": [
    "# 02 - Ask Questions"
   ]
  },
  {
   "cell_type": "markdown",
   "metadata": {},
   "source": [
    "Define the segmented labels you want to consider. \n",
    "\n",
    "Define the article type you want to consider from case or research"
   ]
  },
  {
   "cell_type": "code",
   "execution_count": null,
   "metadata": {},
   "outputs": [],
   "source": [
    "# Define the keys you want to consider (exclude 'References')\n",
    "keys_to_consider = [ \"Abstract\", \"Methods\", \"Results\" ]  # Add or remove keys as per your requirement\n",
    "\n",
    "# Define the type of article and questions\n",
    "article_type = \"research\""
   ]
  },
  {
   "cell_type": "markdown",
   "metadata": {},
   "source": [
    "Set test_mode=True during your first few runs, while you tune your questions to get the answers you need"
   ]
  },
  {
   "cell_type": "code",
   "execution_count": null,
   "metadata": {},
   "outputs": [],
   "source": [
    "test_mode=False"
   ]
  },
  {
   "cell_type": "markdown",
   "metadata": {},
   "source": [
    "Submit Questions"
   ]
  },
  {
   "cell_type": "code",
   "execution_count": null,
   "metadata": {},
   "outputs": [],
   "source": [
    "from calvin_utils.gpt_sys_review.gpt_utils import OpenAIChatEvaluator\n",
    "evaluator = OpenAIChatEvaluator(api_key_path=api_key_path, json_file_path=json_file_path, keys_to_consider=keys_to_consider, question_type=article_type,  question=question, test_mode=test_mode)\n",
    "answers = evaluator.evaluate_all_files()\n",
    "new_json_path = evaluator.save_to_json(answers)"
   ]
  },
  {
   "cell_type": "markdown",
   "metadata": {},
   "source": [
    "# 03 - Summarize the Results"
   ]
  },
  {
   "cell_type": "code",
   "execution_count": null,
   "metadata": {},
   "outputs": [],
   "source": [
    "new_json_path = '/Users/cu135/Library/CloudStorage/OneDrive-Personal/OneDrive_Documents/Work/Software/Research/nimlab/gpt_document_reader/cognitive_examinations/labeled_text/../research_extractions/research_evaluations.json'"
   ]
  },
  {
   "cell_type": "code",
   "execution_count": null,
   "metadata": {},
   "outputs": [],
   "source": [
    "from calvin_utils.gpt_sys_review.json_utils import InclusionExclusionSummarizer\n",
    "summarizer = InclusionExclusionSummarizer(new_json_path)\n",
    "result_df = summarizer.run()\n",
    "result_df"
   ]
  }
 ],
 "metadata": {
  "kernelspec": {
   "display_name": "nimlab_py310",
   "language": "python",
   "name": "python3"
  },
  "language_info": {
   "codemirror_mode": {
    "name": "ipython",
    "version": 3
   },
   "file_extension": ".py",
   "mimetype": "text/x-python",
   "name": "python",
   "nbconvert_exporter": "python",
   "pygments_lexer": "ipython3",
   "version": "3.10.8"
  },
  "orig_nbformat": 4
 },
 "nbformat": 4,
 "nbformat_minor": 2
}
