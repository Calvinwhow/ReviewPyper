{
 "cells": [
  {
   "cell_type": "markdown",
   "metadata": {},
   "source": [
    "# 00 - Provide Paths to Relevant Files"
   ]
  },
  {
   "cell_type": "markdown",
   "metadata": {},
   "source": [
    "OpenAI API Key Path"
   ]
  },
  {
   "cell_type": "code",
   "execution_count": 1,
   "metadata": {},
   "outputs": [],
   "source": [
    "api_key_path = \"/Users/cu135/Library/CloudStorage/OneDrive-Personal/OneDrive_Documents/Work/Software/Research/nimlab/gpt_document_reader/openai_key.txt\""
   ]
  },
  {
   "cell_type": "markdown",
   "metadata": {},
   "source": [
    "json_file_path is the path to the segmented JSON generated at the end of notebook 03. "
   ]
  },
  {
   "cell_type": "code",
   "execution_count": 2,
   "metadata": {},
   "outputs": [],
   "source": [
    "json_file_path = \"/Users/cu135/Dropbox (Partners HealthCare)/studies/Aphantasia_Kutsche/json/_case_labeled_sections.json\""
   ]
  },
  {
   "cell_type": "markdown",
   "metadata": {},
   "source": [
    "# 01 - Define Inclusion/Exclusion Questions\n",
    "\n",
    "Examples generated below:"
   ]
  },
  {
   "cell_type": "code",
   "execution_count": 3,
   "metadata": {},
   "outputs": [
    {
     "name": "stdout",
     "output_type": "stream",
     "text": [
      "Here are example inclusion questions:\n",
      "{\n",
      "    \"Amnesia case report? (Y/N)\": \"case_report\",\n",
      "    \"Published in English? (Y/N)\": \"is_english\"\n",
      "}\n",
      "Here are example exclusion questions:\n",
      "{\n",
      "    \"Transient amnesia, reversible amnesia symptom, severe confabulation or drug use, toxicity, epilepsy-related confusion, psychological or psychiatric-related amnesia (functional amnesia)\": \"other_cause\",\n",
      "    \"Did not examine/report both retrograde and anterograde memory domains\": \"not_both_domains\",\n",
      "    \"Without descriptive/qualitative/quantitative data on amnesia severity/memory tests/questions/scenarios/details\": \"not_enough_information\",\n",
      "    \"Had global cognitive impairment disproportionate to memory loss\": \"disproportionate_impairment\",\n",
      "    \"Without measurable lesion-related brain MR/CT scans\": \"no_scan\",\n",
      "    \"Had focal or widespread brain atrophy\": \"neurodegenerative\",\n",
      "    \"Atypical cases with selective (e.g., semantic) memory loss or material/topographic-specific memory loss\": \"atypical_case\"\n",
      "}\n",
      "Here is a question template\n",
      "{\n",
      "    \" ? (metric/metric/metric)\": \"question_label\"\n",
      "}\n"
     ]
    }
   ],
   "source": [
    "from calvin_utils.gpt_sys_review.gpt_utils import QuestionTemplate\n",
    "\n",
    "question_template = QuestionTemplate()\n",
    "question_template.inclusion_exclusion_questions()"
   ]
  },
  {
   "cell_type": "markdown",
   "metadata": {},
   "source": [
    "**Critical Note**\n",
    "- You are going to define a dictionary with questions as keys (first) and outcomes as values (second).\n",
    "- The value determines if you are answering a positive question or a negative question.\n",
    "- If the question is positive (a yes is good), set the value to 1.\n",
    "- If the question is negative (a yes is bad), set the value to 0.\n",
    "- A good paper will be denoted by 1, with a bad paper denoted by 0.\n",
    "\n",
    "**Examples**\n",
    "```\n",
    "question = {\n",
    "    \"Prioritizing implicit and explicit information, do you think this is a ______ case report or case series? (Yes/No)\": 1,\n",
    "\n",
    "    \"Prioritizing implicit and explicit information, do you think this is a case of transient amnesia, reversible amnesia, confabulation, epilepsy, toxicity, neurodegenerative disease, or functional/psychiatric neurological disorder? . (Yes/No)\": 0,\n",
    "\n",
    "    \"Prioritizing implicit and explicit information, do you think this examined both retrograde and anterograde amnesia? For example, if they report scores or a clinical examination examining retrograde and anterograde amnesia. (Yes/No)\": 1,\n",
    "\n",
    "    \"Prioritizing implicit and explicit information, do you think this has some sort of qualitative or quantitative measurments on memory severity? For example, a case with neuropsychological measurements on memory tests. (Yes/No)\": 1,\n",
    "\n",
    "    \"Prioritizing implicit and explicit information, do you think the memory loss might be due to global cognitive impairment? For example, a stroke resulting in executive, memory, language, and more changes is a global impairment. (Yes/No)\": 0,\n",
    "\n",
    "    \"Prioritizing implicit and explicit information, do you think this case report has a figure with neuroimaging? (Yes/No)\": 1,\n",
    "\n",
    "    \"Prioritizing implicit and explicit information, do you think this case report had brain atrophy, either focally or globally suggesting neurodegeneration? (Yes/No)\": 0,\n",
    "\n",
    "    \"Prioritizing implicit and explicit information, do you think this is due to atypical memory loss, where only a subset of memory is impaired? For example, if just spatial memory is lost. (Yes/No)\": 0,\n",
    "    \n",
    "    \"Prioritizing implicit and explicit information, do you think this in English? (Yes/No)\": 0,\n",
    "}\n",
    "```"
   ]
  },
  {
   "cell_type": "code",
   "execution_count": 4,
   "metadata": {},
   "outputs": [],
   "source": [
    "question = {\n",
    "    \"Do you think this article may contain a case report or case series of a patient who lost their ability to use their mind's eye? Examples would be a stroke and a patient losing the ability to see colour. Another example would be a neurosurgical patient losing the ability to see shapes. Another example would be a patient who had brain damage and could no longer mentally visualize.\": 1,\n",
    "}"
   ]
  },
  {
   "cell_type": "markdown",
   "metadata": {},
   "source": [
    "# 02 - Ask Questions"
   ]
  },
  {
   "cell_type": "markdown",
   "metadata": {},
   "source": [
    "Define the segmented labels you want to consider. \n",
    "\n",
    "- Article type 'case' will has sections 'case_report' and 'other'\n",
    "- Article type 'research' has sections \"Abstract\", \"Introduction\", \"Methods\", \"Results\", \"Discussion\", \"Conclusion\", \"References\"\n",
    "- Article type 'inclusion' can use any keyword you want. It constrains the system to respond in a binary fashion: pass or fail for each question"
   ]
  },
  {
   "cell_type": "code",
   "execution_count": 5,
   "metadata": {},
   "outputs": [],
   "source": [
    "# Define the keys you want to consider (exclude 'References')\n",
    "keys_to_consider = [ \"case_report\", \"other\" ]  # Add or remove keys as per your requirement\n",
    "article_type = 'inclusion'"
   ]
  },
  {
   "cell_type": "markdown",
   "metadata": {},
   "source": [
    "Set test_mode=True during your first few runs, while you tune your questions to get the answers you need"
   ]
  },
  {
   "cell_type": "code",
   "execution_count": 6,
   "metadata": {},
   "outputs": [],
   "source": [
    "test_mode=False"
   ]
  },
  {
   "cell_type": "markdown",
   "metadata": {},
   "source": [
    "Submit Questions"
   ]
  },
  {
   "cell_type": "code",
   "execution_count": 7,
   "metadata": {},
   "outputs": [
    {
     "name": "stdout",
     "output_type": "stream",
     "text": [
      "Will evaluate only 1 articles for testing.\n"
     ]
    },
    {
     "name": "stderr",
     "output_type": "stream",
     "text": [
      "100%|██████████| 1/1 [00:03<00:00,  3.58s/it]"
     ]
    },
    {
     "name": "stdout",
     "output_type": "stream",
     "text": [
      "633 tokens counted by the OpenAI API. Estimated cost per article: 0.05697\n",
      "Saved to: /Users/cu135/Dropbox (Partners HealthCare)/studies/Aphantasia_Kutsche/json/../case_extractions/inclusion_evaluations.json\n"
     ]
    },
    {
     "name": "stderr",
     "output_type": "stream",
     "text": [
      "\n"
     ]
    }
   ],
   "source": [
    "from calvin_utils.gpt_sys_review.gpt_utils import OpenAIChatEvaluator\n",
    "evaluator = OpenAIChatEvaluator(api_key_path=api_key_path, json_file_path=json_file_path, keys_to_consider=keys_to_consider, question_type=article_type, model_choice=\"gpt4\",  question=question, test_mode=test_mode)\n",
    "answers = evaluator.evaluate_all_files()\n",
    "new_json_path = evaluator.save_to_json(answers)"
   ]
  },
  {
   "cell_type": "markdown",
   "metadata": {},
   "source": [
    "# 03 - Summarize the Results"
   ]
  },
  {
   "cell_type": "code",
   "execution_count": 8,
   "metadata": {},
   "outputs": [
    {
     "name": "stdout",
     "output_type": "stream",
     "text": [
      "Your CSV files of filtered manuscripts have been saved to this directory: \n",
      " /Users/cu135/Dropbox (Partners HealthCare)/studies/Aphantasia_Kutsche/json/../case_extractions/inclusion_exclusion_results\n"
     ]
    },
    {
     "name": "stderr",
     "output_type": "stream",
     "text": [
      "/Users/cu135/.local/lib/python3.10/site-packages/fuzzywuzzy/fuzz.py:11: UserWarning: Using slow pure-python SequenceMatcher. Install python-Levenshtein to remove this warning\n",
      "  warnings.warn('Using slow pure-python SequenceMatcher. Install python-Levenshtein to remove this warning')\n"
     ]
    }
   ],
   "source": [
    "from calvin_utils.gpt_sys_review.json_utils import InclusionExclusionSummarizer\n",
    "summarizer = InclusionExclusionSummarizer(new_json_path, questions=question)\n",
    "result_df, raw_path, automated_path = summarizer.run()"
   ]
  },
  {
   "cell_type": "markdown",
   "metadata": {},
   "source": [
    "# 04 - Optional) Update Master List\n",
    "- If you have been using a master_list, you can update it with the results from the generated CSVs."
   ]
  },
  {
   "cell_type": "code",
   "execution_count": 9,
   "metadata": {},
   "outputs": [],
   "source": [
    "master_list_path = '/Users/cu135/Dropbox (Partners HealthCare)/studies/Aphantasia_Kutsche/master_list.csv'"
   ]
  },
  {
   "cell_type": "code",
   "execution_count": 10,
   "metadata": {},
   "outputs": [
    {
     "name": "stderr",
     "output_type": "stream",
     "text": [
      "Updating master list: 1it [00:00, 188.22it/s]\n"
     ]
    },
    {
     "data": {
      "text/html": [
       "<div>\n",
       "<style scoped>\n",
       "    .dataframe tbody tr th:only-of-type {\n",
       "        vertical-align: middle;\n",
       "    }\n",
       "\n",
       "    .dataframe tbody tr th {\n",
       "        vertical-align: top;\n",
       "    }\n",
       "\n",
       "    .dataframe thead th {\n",
       "        text-align: right;\n",
       "    }\n",
       "</style>\n",
       "<table border=\"1\" class=\"dataframe\">\n",
       "  <thead>\n",
       "    <tr style=\"text-align: right;\">\n",
       "      <th></th>\n",
       "      <th>PMID</th>\n",
       "      <th>Title</th>\n",
       "      <th>Authors</th>\n",
       "      <th>Citation</th>\n",
       "      <th>First author</th>\n",
       "      <th>Journal/book</th>\n",
       "      <th>Publication year</th>\n",
       "      <th>Create date</th>\n",
       "      <th>PMCID</th>\n",
       "      <th>Nihms id</th>\n",
       "      <th>DOI</th>\n",
       "      <th>Openai_screen</th>\n",
       "      <th>Abstract</th>\n",
       "      <th>OpenAI_Screen_Abstract</th>\n",
       "      <th>PDF_Downloaded</th>\n",
       "      <th>PDF_Path</th>\n",
       "      <th>Do you think this article may contain a case report or case series of a patient who lost their ability to use their mind's eye? Examples would be a stroke and a patient losing the ability to see colour. Another example would be a neurosurgical patient losing the ability to see shapes. Another example would be a patient who had brain damage and could no longer mentally visualize.</th>\n",
       "    </tr>\n",
       "  </thead>\n",
       "  <tbody>\n",
       "    <tr>\n",
       "      <th>0</th>\n",
       "      <td>20079677</td>\n",
       "      <td>Dreaming and the brain: from phenomenology to ...</td>\n",
       "      <td>Nir Y, Tononi G.</td>\n",
       "      <td>Trends Cogn Sci. 2010 Feb;14(2):88-100. doi: 1...</td>\n",
       "      <td>Nir Y</td>\n",
       "      <td>Trends Cogn Sci</td>\n",
       "      <td>2010</td>\n",
       "      <td>1/19/10</td>\n",
       "      <td>PMC2814941</td>\n",
       "      <td>NIHMS165848</td>\n",
       "      <td>10.1016/j.tics.2009.12.001</td>\n",
       "      <td>1</td>\n",
       "      <td>1. Trends Cogn Sci. 2010 Feb;14(2):88-100. doi...</td>\n",
       "      <td>0.0</td>\n",
       "      <td>NaN</td>\n",
       "      <td>NaN</td>\n",
       "      <td>NaN</td>\n",
       "    </tr>\n",
       "    <tr>\n",
       "      <th>1</th>\n",
       "      <td>27855424</td>\n",
       "      <td>Arts, Brain and Cognition</td>\n",
       "      <td>Demarin V, Bedeković MR, Puretić MB, Pašić MB.</td>\n",
       "      <td>Psychiatr Danub. 2016 Dec;28(4):343-348.</td>\n",
       "      <td>Demarin V</td>\n",
       "      <td>Psychiatr Danub</td>\n",
       "      <td>2016</td>\n",
       "      <td>11/18/16</td>\n",
       "      <td>NaN</td>\n",
       "      <td>NaN</td>\n",
       "      <td>NaN</td>\n",
       "      <td>0</td>\n",
       "      <td>2. Psychiatr Danub. 2016 Dec;28(4):343-348.\\n\\...</td>\n",
       "      <td>NaN</td>\n",
       "      <td>NaN</td>\n",
       "      <td>NaN</td>\n",
       "      <td>NaN</td>\n",
       "    </tr>\n",
       "    <tr>\n",
       "      <th>2</th>\n",
       "      <td>25504833</td>\n",
       "      <td>Viewing the proteome: how to visualize proteom...</td>\n",
       "      <td>Oveland E, Muth T, Rapp E, Martens L, Berven F...</td>\n",
       "      <td>Proteomics. 2015 Apr;15(8):1341-55. doi: 10.10...</td>\n",
       "      <td>Oveland E</td>\n",
       "      <td>Proteomics</td>\n",
       "      <td>2015</td>\n",
       "      <td>12/16/14</td>\n",
       "      <td>NaN</td>\n",
       "      <td>NaN</td>\n",
       "      <td>10.1002/pmic.201400412</td>\n",
       "      <td>0</td>\n",
       "      <td>3. Proteomics. 2015 Apr;15(8):1341-55. doi: 10...</td>\n",
       "      <td>NaN</td>\n",
       "      <td>NaN</td>\n",
       "      <td>NaN</td>\n",
       "      <td>NaN</td>\n",
       "    </tr>\n",
       "    <tr>\n",
       "      <th>3</th>\n",
       "      <td>23601759</td>\n",
       "      <td>Effectiveness of motor imagery or mental pract...</td>\n",
       "      <td>García Carrasco D, Aboitiz Cantalapiedra J.</td>\n",
       "      <td>Neurologia. 2016 Jan-Feb;31(1):43-52. doi: 10....</td>\n",
       "      <td>García Carrasco D</td>\n",
       "      <td>Neurologia</td>\n",
       "      <td>2016</td>\n",
       "      <td>4/23/13</td>\n",
       "      <td>NaN</td>\n",
       "      <td>NaN</td>\n",
       "      <td>10.1016/j.nrl.2013.02.003</td>\n",
       "      <td>0</td>\n",
       "      <td>4. Neurologia. 2016 Jan-Feb;31(1):43-52. doi: ...</td>\n",
       "      <td>NaN</td>\n",
       "      <td>NaN</td>\n",
       "      <td>NaN</td>\n",
       "      <td>NaN</td>\n",
       "    </tr>\n",
       "    <tr>\n",
       "      <th>4</th>\n",
       "      <td>36950100</td>\n",
       "      <td>Study on insulin resistance and ischemic cereb...</td>\n",
       "      <td>Zhou X, Kang C, Hu Y, Wang X.</td>\n",
       "      <td>Front Public Health. 2023 Mar 6;11:1021378. do...</td>\n",
       "      <td>Zhou X</td>\n",
       "      <td>Front Public Health</td>\n",
       "      <td>2023</td>\n",
       "      <td>3/23/23</td>\n",
       "      <td>PMC10025569</td>\n",
       "      <td>NaN</td>\n",
       "      <td>10.3389/fpubh.2023.1021378</td>\n",
       "      <td>0</td>\n",
       "      <td>5. Front Public Health. 2023 Mar 6;11:1021378....</td>\n",
       "      <td>NaN</td>\n",
       "      <td>NaN</td>\n",
       "      <td>NaN</td>\n",
       "      <td>NaN</td>\n",
       "    </tr>\n",
       "    <tr>\n",
       "      <th>...</th>\n",
       "      <td>...</td>\n",
       "      <td>...</td>\n",
       "      <td>...</td>\n",
       "      <td>...</td>\n",
       "      <td>...</td>\n",
       "      <td>...</td>\n",
       "      <td>...</td>\n",
       "      <td>...</td>\n",
       "      <td>...</td>\n",
       "      <td>...</td>\n",
       "      <td>...</td>\n",
       "      <td>...</td>\n",
       "      <td>...</td>\n",
       "      <td>...</td>\n",
       "      <td>...</td>\n",
       "      <td>...</td>\n",
       "      <td>...</td>\n",
       "    </tr>\n",
       "    <tr>\n",
       "      <th>8447</th>\n",
       "      <td>32004786</td>\n",
       "      <td>[Borderline Ovarian Tumours: CNGOF Guidelines ...</td>\n",
       "      <td>Canlorbe G, Lecointre L, Chauvet P, Azaïs H, F...</td>\n",
       "      <td>Gynecol Obstet Fertil Senol. 2020 Mar;48(3):28...</td>\n",
       "      <td>Canlorbe G</td>\n",
       "      <td>Gynecol Obstet Fertil Senol</td>\n",
       "      <td>2020</td>\n",
       "      <td>2/1/20</td>\n",
       "      <td>NaN</td>\n",
       "      <td>NaN</td>\n",
       "      <td>10.1016/j.gofs.2020.01.016</td>\n",
       "      <td>0</td>\n",
       "      <td>8448. Gynecol Obstet Fertil Senol. 2020 Mar;48...</td>\n",
       "      <td>NaN</td>\n",
       "      <td>NaN</td>\n",
       "      <td>NaN</td>\n",
       "      <td>NaN</td>\n",
       "    </tr>\n",
       "    <tr>\n",
       "      <th>8448</th>\n",
       "      <td>37430301</td>\n",
       "      <td>Spatial variations and influencing factors of ...</td>\n",
       "      <td>Xiang L, Yamada M, Feng W, Li D, Nie H.</td>\n",
       "      <td>J Health Popul Nutr. 2023 Jul 11;42(1):66. doi...</td>\n",
       "      <td>Xiang L</td>\n",
       "      <td>J Health Popul Nutr</td>\n",
       "      <td>2023</td>\n",
       "      <td>7/10/23</td>\n",
       "      <td>PMC10334675</td>\n",
       "      <td>NaN</td>\n",
       "      <td>10.1186/s41043-023-00403-4</td>\n",
       "      <td>0</td>\n",
       "      <td>8449. J Health Popul Nutr. 2023 Jul 11;42(1):6...</td>\n",
       "      <td>NaN</td>\n",
       "      <td>NaN</td>\n",
       "      <td>NaN</td>\n",
       "      <td>NaN</td>\n",
       "    </tr>\n",
       "    <tr>\n",
       "      <th>8449</th>\n",
       "      <td>25854109</td>\n",
       "      <td>[Aiming for zero blindness]</td>\n",
       "      <td>Nakazawa T.</td>\n",
       "      <td>Nippon Ganka Gakkai Zasshi. 2015 Mar;119(3):16...</td>\n",
       "      <td>Nakazawa T</td>\n",
       "      <td>Nippon Ganka Gakkai Zasshi</td>\n",
       "      <td>2015</td>\n",
       "      <td>4/10/15</td>\n",
       "      <td>NaN</td>\n",
       "      <td>NaN</td>\n",
       "      <td>NaN</td>\n",
       "      <td>0</td>\n",
       "      <td>8450. Nippon Ganka Gakkai Zasshi. 2015 Mar;119...</td>\n",
       "      <td>NaN</td>\n",
       "      <td>NaN</td>\n",
       "      <td>NaN</td>\n",
       "      <td>NaN</td>\n",
       "    </tr>\n",
       "    <tr>\n",
       "      <th>8450</th>\n",
       "      <td>31895223</td>\n",
       "      <td>Ultrafast Intracranial Vessel Imaging With Non...</td>\n",
       "      <td>Sartoretti T, van Smoorenburg L, Sartoretti E,...</td>\n",
       "      <td>Invest Radiol. 2020 May;55(5):293-303. doi: 10...</td>\n",
       "      <td>Sartoretti T</td>\n",
       "      <td>Invest Radiol</td>\n",
       "      <td>2020</td>\n",
       "      <td>1/3/20</td>\n",
       "      <td>NaN</td>\n",
       "      <td>NaN</td>\n",
       "      <td>10.1097/RLI.0000000000000641</td>\n",
       "      <td>0</td>\n",
       "      <td>8451. Invest Radiol. 2020 May;55(5):293-303. d...</td>\n",
       "      <td>NaN</td>\n",
       "      <td>NaN</td>\n",
       "      <td>NaN</td>\n",
       "      <td>NaN</td>\n",
       "    </tr>\n",
       "    <tr>\n",
       "      <th>8451</th>\n",
       "      <td>25227305</td>\n",
       "      <td>Robotic total thyroidectomy with modified radi...</td>\n",
       "      <td>Byeon HK, Holsinger FC, Tufano RP, Chung HJ, K...</td>\n",
       "      <td>Ann Surg Oncol. 2014 Nov;21(12):3872-5. doi: 1...</td>\n",
       "      <td>Byeon HK</td>\n",
       "      <td>Ann Surg Oncol</td>\n",
       "      <td>2014</td>\n",
       "      <td>9/18/14</td>\n",
       "      <td>NaN</td>\n",
       "      <td>NaN</td>\n",
       "      <td>10.1245/s10434-014-3896-y</td>\n",
       "      <td>0</td>\n",
       "      <td>8452. Ann Surg Oncol. 2014 Nov;21(12):3872-5. ...</td>\n",
       "      <td>NaN</td>\n",
       "      <td>NaN</td>\n",
       "      <td>NaN</td>\n",
       "      <td>NaN</td>\n",
       "    </tr>\n",
       "  </tbody>\n",
       "</table>\n",
       "<p>8452 rows × 17 columns</p>\n",
       "</div>"
      ],
      "text/plain": [
       "          PMID                                              Title  \\\n",
       "0     20079677  Dreaming and the brain: from phenomenology to ...   \n",
       "1     27855424                          Arts, Brain and Cognition   \n",
       "2     25504833  Viewing the proteome: how to visualize proteom...   \n",
       "3     23601759  Effectiveness of motor imagery or mental pract...   \n",
       "4     36950100  Study on insulin resistance and ischemic cereb...   \n",
       "...        ...                                                ...   \n",
       "8447  32004786  [Borderline Ovarian Tumours: CNGOF Guidelines ...   \n",
       "8448  37430301  Spatial variations and influencing factors of ...   \n",
       "8449  25854109                        [Aiming for zero blindness]   \n",
       "8450  31895223  Ultrafast Intracranial Vessel Imaging With Non...   \n",
       "8451  25227305  Robotic total thyroidectomy with modified radi...   \n",
       "\n",
       "                                                Authors  \\\n",
       "0                                      Nir Y, Tononi G.   \n",
       "1        Demarin V, Bedeković MR, Puretić MB, Pašić MB.   \n",
       "2     Oveland E, Muth T, Rapp E, Martens L, Berven F...   \n",
       "3           García Carrasco D, Aboitiz Cantalapiedra J.   \n",
       "4                         Zhou X, Kang C, Hu Y, Wang X.   \n",
       "...                                                 ...   \n",
       "8447  Canlorbe G, Lecointre L, Chauvet P, Azaïs H, F...   \n",
       "8448            Xiang L, Yamada M, Feng W, Li D, Nie H.   \n",
       "8449                                        Nakazawa T.   \n",
       "8450  Sartoretti T, van Smoorenburg L, Sartoretti E,...   \n",
       "8451  Byeon HK, Holsinger FC, Tufano RP, Chung HJ, K...   \n",
       "\n",
       "                                               Citation       First author  \\\n",
       "0     Trends Cogn Sci. 2010 Feb;14(2):88-100. doi: 1...              Nir Y   \n",
       "1              Psychiatr Danub. 2016 Dec;28(4):343-348.          Demarin V   \n",
       "2     Proteomics. 2015 Apr;15(8):1341-55. doi: 10.10...          Oveland E   \n",
       "3     Neurologia. 2016 Jan-Feb;31(1):43-52. doi: 10....  García Carrasco D   \n",
       "4     Front Public Health. 2023 Mar 6;11:1021378. do...             Zhou X   \n",
       "...                                                 ...                ...   \n",
       "8447  Gynecol Obstet Fertil Senol. 2020 Mar;48(3):28...         Canlorbe G   \n",
       "8448  J Health Popul Nutr. 2023 Jul 11;42(1):66. doi...            Xiang L   \n",
       "8449  Nippon Ganka Gakkai Zasshi. 2015 Mar;119(3):16...         Nakazawa T   \n",
       "8450  Invest Radiol. 2020 May;55(5):293-303. doi: 10...       Sartoretti T   \n",
       "8451  Ann Surg Oncol. 2014 Nov;21(12):3872-5. doi: 1...           Byeon HK   \n",
       "\n",
       "                     Journal/book  Publication year Create date        PMCID  \\\n",
       "0                 Trends Cogn Sci              2010     1/19/10   PMC2814941   \n",
       "1                 Psychiatr Danub              2016    11/18/16          NaN   \n",
       "2                      Proteomics              2015    12/16/14          NaN   \n",
       "3                      Neurologia              2016     4/23/13          NaN   \n",
       "4             Front Public Health              2023     3/23/23  PMC10025569   \n",
       "...                           ...               ...         ...          ...   \n",
       "8447  Gynecol Obstet Fertil Senol              2020      2/1/20          NaN   \n",
       "8448          J Health Popul Nutr              2023     7/10/23  PMC10334675   \n",
       "8449   Nippon Ganka Gakkai Zasshi              2015     4/10/15          NaN   \n",
       "8450                Invest Radiol              2020      1/3/20          NaN   \n",
       "8451               Ann Surg Oncol              2014     9/18/14          NaN   \n",
       "\n",
       "         Nihms id                           DOI  Openai_screen  \\\n",
       "0     NIHMS165848    10.1016/j.tics.2009.12.001              1   \n",
       "1             NaN                           NaN              0   \n",
       "2             NaN        10.1002/pmic.201400412              0   \n",
       "3             NaN     10.1016/j.nrl.2013.02.003              0   \n",
       "4             NaN    10.3389/fpubh.2023.1021378              0   \n",
       "...           ...                           ...            ...   \n",
       "8447          NaN    10.1016/j.gofs.2020.01.016              0   \n",
       "8448          NaN    10.1186/s41043-023-00403-4              0   \n",
       "8449          NaN                           NaN              0   \n",
       "8450          NaN  10.1097/RLI.0000000000000641              0   \n",
       "8451          NaN     10.1245/s10434-014-3896-y              0   \n",
       "\n",
       "                                               Abstract  \\\n",
       "0     1. Trends Cogn Sci. 2010 Feb;14(2):88-100. doi...   \n",
       "1     2. Psychiatr Danub. 2016 Dec;28(4):343-348.\\n\\...   \n",
       "2     3. Proteomics. 2015 Apr;15(8):1341-55. doi: 10...   \n",
       "3     4. Neurologia. 2016 Jan-Feb;31(1):43-52. doi: ...   \n",
       "4     5. Front Public Health. 2023 Mar 6;11:1021378....   \n",
       "...                                                 ...   \n",
       "8447  8448. Gynecol Obstet Fertil Senol. 2020 Mar;48...   \n",
       "8448  8449. J Health Popul Nutr. 2023 Jul 11;42(1):6...   \n",
       "8449  8450. Nippon Ganka Gakkai Zasshi. 2015 Mar;119...   \n",
       "8450  8451. Invest Radiol. 2020 May;55(5):293-303. d...   \n",
       "8451  8452. Ann Surg Oncol. 2014 Nov;21(12):3872-5. ...   \n",
       "\n",
       "      OpenAI_Screen_Abstract PDF_Downloaded PDF_Path  \\\n",
       "0                        0.0            NaN      NaN   \n",
       "1                        NaN            NaN      NaN   \n",
       "2                        NaN            NaN      NaN   \n",
       "3                        NaN            NaN      NaN   \n",
       "4                        NaN            NaN      NaN   \n",
       "...                      ...            ...      ...   \n",
       "8447                     NaN            NaN      NaN   \n",
       "8448                     NaN            NaN      NaN   \n",
       "8449                     NaN            NaN      NaN   \n",
       "8450                     NaN            NaN      NaN   \n",
       "8451                     NaN            NaN      NaN   \n",
       "\n",
       "     Do you think this article may contain a case report or case series of a patient who lost their ability to use their mind's eye? Examples would be a stroke and a patient losing the ability to see colour. Another example would be a neurosurgical patient losing the ability to see shapes. Another example would be a patient who had brain damage and could no longer mentally visualize.  \n",
       "0                                                   NaN                                                                                                                                                                                                                                                                                                                                             \n",
       "1                                                   NaN                                                                                                                                                                                                                                                                                                                                             \n",
       "2                                                   NaN                                                                                                                                                                                                                                                                                                                                             \n",
       "3                                                   NaN                                                                                                                                                                                                                                                                                                                                             \n",
       "4                                                   NaN                                                                                                                                                                                                                                                                                                                                             \n",
       "...                                                 ...                                                                                                                                                                                                                                                                                                                                             \n",
       "8447                                                NaN                                                                                                                                                                                                                                                                                                                                             \n",
       "8448                                                NaN                                                                                                                                                                                                                                                                                                                                             \n",
       "8449                                                NaN                                                                                                                                                                                                                                                                                                                                             \n",
       "8450                                                NaN                                                                                                                                                                                                                                                                                                                                             \n",
       "8451                                                NaN                                                                                                                                                                                                                                                                                                                                             \n",
       "\n",
       "[8452 rows x 17 columns]"
      ]
     },
     "execution_count": 10,
     "metadata": {},
     "output_type": "execute_result"
    }
   ],
   "source": [
    "from calvin_utils.gpt_sys_review.txt_utils import PostProcessing\n",
    "PostProcessing.add_raw_results_to_master_list(master_list_path=master_list_path, raw_results_path=raw_path)"
   ]
  },
  {
   "cell_type": "markdown",
   "metadata": {},
   "source": [
    "Your articles have been completely evaluated and filtered. \n",
    "\n",
    "Please check the CSVs in the directory noted above and use the path to the one you would like to use. It will be for your next notebook.\n",
    "- Enjoy. If this has been helpful, please consider adding Calvin Howard as a collaborator. \n",
    "- e: choward12@bwh.harvard.edu"
   ]
  }
 ],
 "metadata": {
  "kernelspec": {
   "display_name": "Python3.10 (nimlab)",
   "language": "python",
   "name": "nimlab_py310"
  },
  "language_info": {
   "codemirror_mode": {
    "name": "ipython",
    "version": 3
   },
   "file_extension": ".py",
   "mimetype": "text/x-python",
   "name": "python",
   "nbconvert_exporter": "python",
   "pygments_lexer": "ipython3",
   "version": "3.10.8"
  },
  "orig_nbformat": 4
 },
 "nbformat": 4,
 "nbformat_minor": 2
}
